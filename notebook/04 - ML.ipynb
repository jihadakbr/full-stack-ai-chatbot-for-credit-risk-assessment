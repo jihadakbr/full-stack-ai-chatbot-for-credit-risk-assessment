{
 "cells": [
  {
   "cell_type": "markdown",
   "id": "212d0716-6039-4735-93f3-10ee25161a00",
   "metadata": {},
   "source": [
    "# Create Spark Session"
   ]
  },
  {
   "cell_type": "code",
   "execution_count": 1,
   "id": "212b716f-a886-44c9-8590-e5d0c9c99173",
   "metadata": {},
   "outputs": [
    {
     "name": "stderr",
     "output_type": "stream",
     "text": [
      "/home/jihadakbr/venvs/loan_chatbot/lib/python3.10/site-packages/tqdm/auto.py:21: TqdmWarning: IProgress not found. Please update jupyter and ipywidgets. See https://ipywidgets.readthedocs.io/en/stable/user_install.html\n",
      "  from .autonotebook import tqdm as notebook_tqdm\n"
     ]
    }
   ],
   "source": [
    "import os\n",
    "import json\n",
    "import shap\n",
    "import time\n",
    "import random\n",
    "import numpy as np\n",
    "import pandas as pd\n",
    "import matplotlib.pyplot as plt\n",
    "\n",
    "import mlflow\n",
    "import tempfile\n",
    "import mlflow.spark\n",
    "from mlflow.tracking import MlflowClient\n",
    "from mlflow.models.signature import infer_signature\n",
    "\n",
    "from pyspark import SparkContext\n",
    "from pyspark.sql import functions as F, Row\n",
    "from pyspark.sql import SparkSession, DataFrame\n",
    "from pyspark.sql.functions import col, sum, when, round, expr, udf, lit\n",
    "from pyspark.sql.types import StructType, StructField, StringType, LongType, DoubleType, BooleanType, IntegerType\n",
    "\n",
    "from pyspark.ml import Pipeline, PipelineModel\n",
    "from pyspark.ml.tuning import ParamGridBuilder, CrossValidator\n",
    "from pyspark.ml.evaluation import BinaryClassificationEvaluator\n",
    "from pyspark.mllib.evaluation import BinaryClassificationMetrics\n",
    "from pyspark.ml.feature import VectorAssembler, VectorSlicer, StandardScaler\n",
    "from pyspark.ml.classification import RandomForestClassifier, GBTClassifier, DecisionTreeClassifier\n",
    "\n",
    "from sklearn.metrics import f1_score, recall_score, precision_recall_curve, auc\n",
    "\n",
    "import warnings\n",
    "warnings.filterwarnings(\"ignore\")"
   ]
  },
  {
   "cell_type": "code",
   "execution_count": 2,
   "id": "49640554-763b-4811-bc6b-a5c64475e69b",
   "metadata": {},
   "outputs": [
    {
     "name": "stderr",
     "output_type": "stream",
     "text": [
      "Setting default log level to \"WARN\".\n",
      "To adjust logging level use sc.setLogLevel(newLevel). For SparkR, use setLogLevel(newLevel).\n",
      "25/08/30 14:57:42 WARN NativeCodeLoader: Unable to load native-hadoop library for your platform... using builtin-java classes where applicable\n",
      "25/08/30 14:57:46 WARN Client: Neither spark.yarn.jars nor spark.yarn.archive is set, falling back to uploading libraries under SPARK_HOME.\n"
     ]
    }
   ],
   "source": [
    "spark = SparkSession.builder.appName(\"CreditRisk\").master(\"yarn\").getOrCreate()"
   ]
  },
  {
   "cell_type": "code",
   "execution_count": 3,
   "id": "bbf438cd-6cf6-464a-8e5d-ce6c835439ce",
   "metadata": {},
   "outputs": [
    {
     "data": {
      "text/html": [
       "\n",
       "            <div>\n",
       "                <p><b>SparkSession - in-memory</b></p>\n",
       "                \n",
       "        <div>\n",
       "            <p><b>SparkContext</b></p>\n",
       "\n",
       "            <p><a href=\"http://192.168.195.106:4040\">Spark UI</a></p>\n",
       "\n",
       "            <dl>\n",
       "              <dt>Version</dt>\n",
       "                <dd><code>v3.5.1</code></dd>\n",
       "              <dt>Master</dt>\n",
       "                <dd><code>yarn</code></dd>\n",
       "              <dt>AppName</dt>\n",
       "                <dd><code>CreditRisk</code></dd>\n",
       "            </dl>\n",
       "        </div>\n",
       "        \n",
       "            </div>\n",
       "        "
      ],
      "text/plain": [
       "<pyspark.sql.session.SparkSession at 0x7db879fbf7f0>"
      ]
     },
     "execution_count": 3,
     "metadata": {},
     "output_type": "execute_result"
    }
   ],
   "source": [
    "spark"
   ]
  },
  {
   "cell_type": "markdown",
   "id": "c45228de-5e43-48ec-beb0-7036e830a353",
   "metadata": {},
   "source": [
    "# MLflow Tracking"
   ]
  },
  {
   "cell_type": "code",
   "execution_count": 4,
   "id": "31d1271f-7028-4714-b073-428225b36eec",
   "metadata": {},
   "outputs": [
    {
     "data": {
      "text/plain": [
       "<Experiment: artifact_location='/home/jihadakbr/Project/Home_Credit_Default_Risk/notebook/../mlruns/787990574769484173', creation_time=1755711395931, experiment_id='787990574769484173', last_update_time=1755711395931, lifecycle_stage='active', name='CreditRiskModeling', tags={}>"
      ]
     },
     "execution_count": 4,
     "metadata": {},
     "output_type": "execute_result"
    }
   ],
   "source": [
    "# Set MLflow tracking URI (local)\n",
    "mlflow.set_tracking_uri(\"../mlruns\")\n",
    "mlflow.set_experiment(\"CreditRiskModeling\")"
   ]
  },
  {
   "cell_type": "markdown",
   "id": "f162d7a5-885e-4b23-b72d-72a6451e7c67",
   "metadata": {},
   "source": [
    "# Load the Train and Test Sets from HDFS"
   ]
  },
  {
   "cell_type": "code",
   "execution_count": 5,
   "id": "615971bc-b113-4c0e-a632-c2d370a798c8",
   "metadata": {},
   "outputs": [],
   "source": [
    "# default col is 25, I change it to 1000\n",
    "spark.conf.set(\"spark.sql.debug.maxToStringFields\", 1000)"
   ]
  },
  {
   "cell_type": "code",
   "execution_count": 6,
   "id": "da04afae-e8be-4e20-810a-d8cdd2409ba3",
   "metadata": {},
   "outputs": [
    {
     "name": "stderr",
     "output_type": "stream",
     "text": [
      "                                                                                "
     ]
    }
   ],
   "source": [
    "train = spark.read.parquet(\"hdfs:///user/jihadakbr/credit_risk/ml_data/train.parquet\")\n",
    "test = spark.read.parquet(\"hdfs:///user/jihadakbr/credit_risk/ml_data/test.parquet\")"
   ]
  },
  {
   "cell_type": "code",
   "execution_count": 7,
   "id": "65b858a7-db73-4930-a9b4-f50d84f877ba",
   "metadata": {},
   "outputs": [
    {
     "name": "stderr",
     "output_type": "stream",
     "text": [
      "[Stage 2:=============================>                             (1 + 1) / 2]"
     ]
    },
    {
     "name": "stdout",
     "output_type": "stream",
     "text": [
      "Shape: (307499, 114)\n"
     ]
    },
    {
     "name": "stderr",
     "output_type": "stream",
     "text": [
      "                                                                                "
     ]
    }
   ],
   "source": [
    "row_count = train.count()\n",
    "column_count = len(train.columns)\n",
    "\n",
    "print(f\"Shape: ({row_count}, {column_count})\")"
   ]
  },
  {
   "cell_type": "code",
   "execution_count": 8,
   "id": "e9139ac3-2f6b-4588-a4a8-2be64599adc4",
   "metadata": {},
   "outputs": [
    {
     "name": "stdout",
     "output_type": "stream",
     "text": [
      "Shape: (48740, 114)\n"
     ]
    }
   ],
   "source": [
    "row_count = test.count()\n",
    "column_count = len(test.columns)\n",
    "\n",
    "print(f\"Shape: ({row_count}, {column_count})\")"
   ]
  },
  {
   "cell_type": "code",
   "execution_count": 9,
   "id": "924b73db-ccc0-424a-9ca1-c8d624b0b741",
   "metadata": {
    "scrolled": true
   },
   "outputs": [
    {
     "name": "stdout",
     "output_type": "stream",
     "text": [
      "root\n",
      " |-- SK_ID_CURR: string (nullable = true)\n",
      " |-- TARGET: long (nullable = true)\n",
      " |-- NAME_CONTRACT_TYPE: long (nullable = true)\n",
      " |-- CODE_GENDER: long (nullable = true)\n",
      " |-- FLAG_OWN_CAR: long (nullable = true)\n",
      " |-- FLAG_OWN_REALTY: long (nullable = true)\n",
      " |-- AMT_INCOME_TOTAL: double (nullable = true)\n",
      " |-- AMT_CREDIT: double (nullable = true)\n",
      " |-- AMT_ANNUITY: double (nullable = true)\n",
      " |-- NAME_EDUCATION_TYPE: long (nullable = true)\n",
      " |-- REGION_POPULATION_RELATIVE: double (nullable = true)\n",
      " |-- DAYS_BIRTH: long (nullable = true)\n",
      " |-- DAYS_EMPLOYED: long (nullable = true)\n",
      " |-- DAYS_REGISTRATION: double (nullable = true)\n",
      " |-- DAYS_ID_PUBLISH: long (nullable = true)\n",
      " |-- OWN_CAR_AGE: double (nullable = true)\n",
      " |-- FLAG_MOBIL: long (nullable = true)\n",
      " |-- FLAG_WORK_PHONE: long (nullable = true)\n",
      " |-- FLAG_CONT_MOBILE: long (nullable = true)\n",
      " |-- FLAG_PHONE: long (nullable = true)\n",
      " |-- FLAG_EMAIL: long (nullable = true)\n",
      " |-- OCCUPATION_TYPE: double (nullable = true)\n",
      " |-- CNT_FAM_MEMBERS: double (nullable = true)\n",
      " |-- REGION_RATING_CLIENT_W_CITY: long (nullable = true)\n",
      " |-- HOUR_APPR_PROCESS_START: long (nullable = true)\n",
      " |-- REG_REGION_NOT_LIVE_REGION: long (nullable = true)\n",
      " |-- LIVE_REGION_NOT_WORK_REGION: long (nullable = true)\n",
      " |-- REG_CITY_NOT_LIVE_CITY: long (nullable = true)\n",
      " |-- LIVE_CITY_NOT_WORK_CITY: long (nullable = true)\n",
      " |-- EXT_SOURCE_1: double (nullable = true)\n",
      " |-- EXT_SOURCE_2: double (nullable = true)\n",
      " |-- EXT_SOURCE_3: double (nullable = true)\n",
      " |-- LIVINGAPARTMENTS_MEDI: double (nullable = true)\n",
      " |-- LIVINGAREA_MEDI: double (nullable = true)\n",
      " |-- OBS_30_CNT_SOCIAL_CIRCLE: double (nullable = true)\n",
      " |-- DEF_30_CNT_SOCIAL_CIRCLE: double (nullable = true)\n",
      " |-- DAYS_LAST_PHONE_CHANGE: double (nullable = true)\n",
      " |-- FLAG_DOCUMENT_2: long (nullable = true)\n",
      " |-- FLAG_DOCUMENT_3: long (nullable = true)\n",
      " |-- FLAG_DOCUMENT_4: long (nullable = true)\n",
      " |-- FLAG_DOCUMENT_5: long (nullable = true)\n",
      " |-- FLAG_DOCUMENT_6: long (nullable = true)\n",
      " |-- FLAG_DOCUMENT_7: long (nullable = true)\n",
      " |-- FLAG_DOCUMENT_8: long (nullable = true)\n",
      " |-- FLAG_DOCUMENT_9: long (nullable = true)\n",
      " |-- FLAG_DOCUMENT_10: long (nullable = true)\n",
      " |-- FLAG_DOCUMENT_11: long (nullable = true)\n",
      " |-- FLAG_DOCUMENT_12: long (nullable = true)\n",
      " |-- FLAG_DOCUMENT_13: long (nullable = true)\n",
      " |-- FLAG_DOCUMENT_14: long (nullable = true)\n",
      " |-- FLAG_DOCUMENT_15: long (nullable = true)\n",
      " |-- FLAG_DOCUMENT_16: long (nullable = true)\n",
      " |-- FLAG_DOCUMENT_17: long (nullable = true)\n",
      " |-- FLAG_DOCUMENT_18: long (nullable = true)\n",
      " |-- FLAG_DOCUMENT_19: long (nullable = true)\n",
      " |-- FLAG_DOCUMENT_20: long (nullable = true)\n",
      " |-- FLAG_DOCUMENT_21: long (nullable = true)\n",
      " |-- AMT_REQ_CREDIT_BUREAU_HOUR: double (nullable = true)\n",
      " |-- AMT_REQ_CREDIT_BUREAU_DAY: double (nullable = true)\n",
      " |-- AMT_REQ_CREDIT_BUREAU_WEEK: double (nullable = true)\n",
      " |-- AMT_REQ_CREDIT_BUREAU_MON: double (nullable = true)\n",
      " |-- AMT_REQ_CREDIT_BUREAU_QRT: double (nullable = true)\n",
      " |-- AMT_REQ_CREDIT_BUREAU_YEAR: double (nullable = true)\n",
      " |-- FLAG_CREDIT_BUREAU_MISSING: long (nullable = true)\n",
      " |-- FLAG_EXT_SOURCE_3_MISSING: long (nullable = true)\n",
      " |-- FLAG_EXT_SOURCE_1_MISSING: long (nullable = true)\n",
      " |-- REVOLVING_GOODS_OVER_CREDIT: long (nullable = true)\n",
      " |-- GOODS_CREDIT_RATIO: double (nullable = true)\n",
      " |-- HIGH_CTI: boolean (nullable = true)\n",
      " |-- HIGH_CTI_RISK: long (nullable = true)\n",
      " |-- ATI_RATIO: double (nullable = true)\n",
      " |-- HIGH_ATI: boolean (nullable = true)\n",
      " |-- HIGH_ATI_RISK: long (nullable = true)\n",
      " |-- HIGH_GTI: boolean (nullable = true)\n",
      " |-- HIGH_GTI_RISK: long (nullable = true)\n",
      " |-- EMERGENCY_YES: long (nullable = true)\n",
      " |-- WEEKDAY_SIN: double (nullable = true)\n",
      " |-- WEEKDAY_COS: double (nullable = true)\n",
      " |-- NAME_TYPE_SUITE_Group of people: long (nullable = true)\n",
      " |-- NAME_TYPE_SUITE_Other_A: long (nullable = true)\n",
      " |-- NAME_TYPE_SUITE_Other_B: long (nullable = true)\n",
      " |-- NAME_TYPE_SUITE_Spouse, partner: long (nullable = true)\n",
      " |-- NAME_TYPE_SUITE_Unaccompanied: long (nullable = true)\n",
      " |-- NAME_INCOME_TYPE_Commercial associate: long (nullable = true)\n",
      " |-- NAME_INCOME_TYPE_Maternity leave: long (nullable = true)\n",
      " |-- NAME_INCOME_TYPE_State servant: long (nullable = true)\n",
      " |-- NAME_INCOME_TYPE_Student: long (nullable = true)\n",
      " |-- NAME_INCOME_TYPE_Unemployed: long (nullable = true)\n",
      " |-- NAME_INCOME_TYPE_Working: long (nullable = true)\n",
      " |-- NAME_FAMILY_STATUS_Married: long (nullable = true)\n",
      " |-- NAME_FAMILY_STATUS_Separated: long (nullable = true)\n",
      " |-- NAME_FAMILY_STATUS_Single / not married: long (nullable = true)\n",
      " |-- NAME_FAMILY_STATUS_Unknown: long (nullable = true)\n",
      " |-- NAME_FAMILY_STATUS_Widow: long (nullable = true)\n",
      " |-- NAME_HOUSING_TYPE_House / apartment: long (nullable = true)\n",
      " |-- NAME_HOUSING_TYPE_Municipal apartment: long (nullable = true)\n",
      " |-- NAME_HOUSING_TYPE_Office apartment: long (nullable = true)\n",
      " |-- NAME_HOUSING_TYPE_Rented apartment: long (nullable = true)\n",
      " |-- NAME_HOUSING_TYPE_With parents: long (nullable = true)\n",
      " |-- FONDKAPREMONT_MODE_not specified: long (nullable = true)\n",
      " |-- FONDKAPREMONT_MODE_org spec account: long (nullable = true)\n",
      " |-- FONDKAPREMONT_MODE_reg oper account: long (nullable = true)\n",
      " |-- FONDKAPREMONT_MODE_reg oper spec account: long (nullable = true)\n",
      " |-- HOUSETYPE_MODE_specific housing: long (nullable = true)\n",
      " |-- HOUSETYPE_MODE_terraced house: long (nullable = true)\n",
      " |-- WALLSMATERIAL_MODE_Mixed: long (nullable = true)\n",
      " |-- WALLSMATERIAL_MODE_Monolithic: long (nullable = true)\n",
      " |-- WALLSMATERIAL_MODE_Others: long (nullable = true)\n",
      " |-- WALLSMATERIAL_MODE_Panel: long (nullable = true)\n",
      " |-- WALLSMATERIAL_MODE_Stone, brick: long (nullable = true)\n",
      " |-- WALLSMATERIAL_MODE_Wooden: long (nullable = true)\n",
      " |-- EMPLOYMENT_STATUS_Mid_Term: long (nullable = true)\n",
      " |-- EMPLOYMENT_STATUS_Short_Term: long (nullable = true)\n",
      " |-- ORGANIZATION_TYPE_ENCODED: double (nullable = true)\n",
      "\n"
     ]
    }
   ],
   "source": [
    "train.printSchema()"
   ]
  },
  {
   "cell_type": "code",
   "execution_count": 10,
   "id": "91a10703-46ec-4336-a98f-5fdd89ffa0b1",
   "metadata": {
    "scrolled": true
   },
   "outputs": [
    {
     "name": "stdout",
     "output_type": "stream",
     "text": [
      "root\n",
      " |-- SK_ID_CURR: string (nullable = true)\n",
      " |-- TARGET: integer (nullable = true)\n",
      " |-- NAME_CONTRACT_TYPE: long (nullable = true)\n",
      " |-- CODE_GENDER: long (nullable = true)\n",
      " |-- FLAG_OWN_CAR: long (nullable = true)\n",
      " |-- FLAG_OWN_REALTY: long (nullable = true)\n",
      " |-- AMT_INCOME_TOTAL: double (nullable = true)\n",
      " |-- AMT_CREDIT: double (nullable = true)\n",
      " |-- AMT_ANNUITY: double (nullable = true)\n",
      " |-- NAME_EDUCATION_TYPE: long (nullable = true)\n",
      " |-- REGION_POPULATION_RELATIVE: double (nullable = true)\n",
      " |-- DAYS_BIRTH: long (nullable = true)\n",
      " |-- DAYS_EMPLOYED: long (nullable = true)\n",
      " |-- DAYS_REGISTRATION: double (nullable = true)\n",
      " |-- DAYS_ID_PUBLISH: long (nullable = true)\n",
      " |-- OWN_CAR_AGE: double (nullable = true)\n",
      " |-- FLAG_MOBIL: long (nullable = true)\n",
      " |-- FLAG_WORK_PHONE: long (nullable = true)\n",
      " |-- FLAG_CONT_MOBILE: long (nullable = true)\n",
      " |-- FLAG_PHONE: long (nullable = true)\n",
      " |-- FLAG_EMAIL: long (nullable = true)\n",
      " |-- OCCUPATION_TYPE: double (nullable = true)\n",
      " |-- CNT_FAM_MEMBERS: double (nullable = true)\n",
      " |-- REGION_RATING_CLIENT_W_CITY: long (nullable = true)\n",
      " |-- HOUR_APPR_PROCESS_START: long (nullable = true)\n",
      " |-- REG_REGION_NOT_LIVE_REGION: long (nullable = true)\n",
      " |-- LIVE_REGION_NOT_WORK_REGION: long (nullable = true)\n",
      " |-- REG_CITY_NOT_LIVE_CITY: long (nullable = true)\n",
      " |-- LIVE_CITY_NOT_WORK_CITY: long (nullable = true)\n",
      " |-- EXT_SOURCE_1: double (nullable = true)\n",
      " |-- EXT_SOURCE_2: double (nullable = true)\n",
      " |-- EXT_SOURCE_3: double (nullable = true)\n",
      " |-- LIVINGAPARTMENTS_MEDI: double (nullable = true)\n",
      " |-- LIVINGAREA_MEDI: double (nullable = true)\n",
      " |-- OBS_30_CNT_SOCIAL_CIRCLE: double (nullable = true)\n",
      " |-- DEF_30_CNT_SOCIAL_CIRCLE: double (nullable = true)\n",
      " |-- DAYS_LAST_PHONE_CHANGE: double (nullable = true)\n",
      " |-- FLAG_DOCUMENT_2: long (nullable = true)\n",
      " |-- FLAG_DOCUMENT_3: long (nullable = true)\n",
      " |-- FLAG_DOCUMENT_4: long (nullable = true)\n",
      " |-- FLAG_DOCUMENT_5: long (nullable = true)\n",
      " |-- FLAG_DOCUMENT_6: long (nullable = true)\n",
      " |-- FLAG_DOCUMENT_7: long (nullable = true)\n",
      " |-- FLAG_DOCUMENT_8: long (nullable = true)\n",
      " |-- FLAG_DOCUMENT_9: long (nullable = true)\n",
      " |-- FLAG_DOCUMENT_10: long (nullable = true)\n",
      " |-- FLAG_DOCUMENT_11: long (nullable = true)\n",
      " |-- FLAG_DOCUMENT_12: long (nullable = true)\n",
      " |-- FLAG_DOCUMENT_13: long (nullable = true)\n",
      " |-- FLAG_DOCUMENT_14: long (nullable = true)\n",
      " |-- FLAG_DOCUMENT_15: long (nullable = true)\n",
      " |-- FLAG_DOCUMENT_16: long (nullable = true)\n",
      " |-- FLAG_DOCUMENT_17: long (nullable = true)\n",
      " |-- FLAG_DOCUMENT_18: long (nullable = true)\n",
      " |-- FLAG_DOCUMENT_19: long (nullable = true)\n",
      " |-- FLAG_DOCUMENT_20: long (nullable = true)\n",
      " |-- FLAG_DOCUMENT_21: long (nullable = true)\n",
      " |-- AMT_REQ_CREDIT_BUREAU_HOUR: double (nullable = true)\n",
      " |-- AMT_REQ_CREDIT_BUREAU_DAY: double (nullable = true)\n",
      " |-- AMT_REQ_CREDIT_BUREAU_WEEK: double (nullable = true)\n",
      " |-- AMT_REQ_CREDIT_BUREAU_MON: double (nullable = true)\n",
      " |-- AMT_REQ_CREDIT_BUREAU_QRT: double (nullable = true)\n",
      " |-- AMT_REQ_CREDIT_BUREAU_YEAR: double (nullable = true)\n",
      " |-- FLAG_CREDIT_BUREAU_MISSING: long (nullable = true)\n",
      " |-- FLAG_EXT_SOURCE_3_MISSING: long (nullable = true)\n",
      " |-- FLAG_EXT_SOURCE_1_MISSING: long (nullable = true)\n",
      " |-- REVOLVING_GOODS_OVER_CREDIT: long (nullable = true)\n",
      " |-- GOODS_CREDIT_RATIO: double (nullable = true)\n",
      " |-- HIGH_CTI: boolean (nullable = true)\n",
      " |-- HIGH_CTI_RISK: long (nullable = true)\n",
      " |-- ATI_RATIO: double (nullable = true)\n",
      " |-- HIGH_ATI: boolean (nullable = true)\n",
      " |-- HIGH_ATI_RISK: long (nullable = true)\n",
      " |-- HIGH_GTI: boolean (nullable = true)\n",
      " |-- HIGH_GTI_RISK: long (nullable = true)\n",
      " |-- EMERGENCY_YES: long (nullable = true)\n",
      " |-- WEEKDAY_SIN: double (nullable = true)\n",
      " |-- WEEKDAY_COS: double (nullable = true)\n",
      " |-- NAME_TYPE_SUITE_Group of people: long (nullable = true)\n",
      " |-- NAME_TYPE_SUITE_Other_A: long (nullable = true)\n",
      " |-- NAME_TYPE_SUITE_Other_B: long (nullable = true)\n",
      " |-- NAME_TYPE_SUITE_Spouse, partner: long (nullable = true)\n",
      " |-- NAME_TYPE_SUITE_Unaccompanied: long (nullable = true)\n",
      " |-- NAME_INCOME_TYPE_Commercial associate: long (nullable = true)\n",
      " |-- NAME_INCOME_TYPE_Maternity leave: long (nullable = true)\n",
      " |-- NAME_INCOME_TYPE_State servant: long (nullable = true)\n",
      " |-- NAME_INCOME_TYPE_Student: long (nullable = true)\n",
      " |-- NAME_INCOME_TYPE_Unemployed: long (nullable = true)\n",
      " |-- NAME_INCOME_TYPE_Working: long (nullable = true)\n",
      " |-- NAME_FAMILY_STATUS_Married: long (nullable = true)\n",
      " |-- NAME_FAMILY_STATUS_Separated: long (nullable = true)\n",
      " |-- NAME_FAMILY_STATUS_Single / not married: long (nullable = true)\n",
      " |-- NAME_FAMILY_STATUS_Unknown: long (nullable = true)\n",
      " |-- NAME_FAMILY_STATUS_Widow: long (nullable = true)\n",
      " |-- NAME_HOUSING_TYPE_House / apartment: long (nullable = true)\n",
      " |-- NAME_HOUSING_TYPE_Municipal apartment: long (nullable = true)\n",
      " |-- NAME_HOUSING_TYPE_Office apartment: long (nullable = true)\n",
      " |-- NAME_HOUSING_TYPE_Rented apartment: long (nullable = true)\n",
      " |-- NAME_HOUSING_TYPE_With parents: long (nullable = true)\n",
      " |-- FONDKAPREMONT_MODE_not specified: long (nullable = true)\n",
      " |-- FONDKAPREMONT_MODE_org spec account: long (nullable = true)\n",
      " |-- FONDKAPREMONT_MODE_reg oper account: long (nullable = true)\n",
      " |-- FONDKAPREMONT_MODE_reg oper spec account: long (nullable = true)\n",
      " |-- HOUSETYPE_MODE_specific housing: long (nullable = true)\n",
      " |-- HOUSETYPE_MODE_terraced house: long (nullable = true)\n",
      " |-- WALLSMATERIAL_MODE_Mixed: long (nullable = true)\n",
      " |-- WALLSMATERIAL_MODE_Monolithic: long (nullable = true)\n",
      " |-- WALLSMATERIAL_MODE_Others: long (nullable = true)\n",
      " |-- WALLSMATERIAL_MODE_Panel: long (nullable = true)\n",
      " |-- WALLSMATERIAL_MODE_Stone, brick: long (nullable = true)\n",
      " |-- WALLSMATERIAL_MODE_Wooden: long (nullable = true)\n",
      " |-- EMPLOYMENT_STATUS_Mid_Term: long (nullable = true)\n",
      " |-- EMPLOYMENT_STATUS_Short_Term: long (nullable = true)\n",
      " |-- ORGANIZATION_TYPE_ENCODED: double (nullable = true)\n",
      "\n"
     ]
    }
   ],
   "source": [
    "test.printSchema()"
   ]
  },
  {
   "cell_type": "code",
   "execution_count": 11,
   "id": "c95e776f-1080-41b0-835f-9810c4cc3c09",
   "metadata": {},
   "outputs": [
    {
     "name": "stderr",
     "output_type": "stream",
     "text": [
      "                                                                                "
     ]
    },
    {
     "name": "stdout",
     "output_type": "stream",
     "text": [
      "+----------+------+------------------+-----------+------------+---------------+----------------+----------+-----------+-------------------+\n",
      "|SK_ID_CURR|TARGET|NAME_CONTRACT_TYPE|CODE_GENDER|FLAG_OWN_CAR|FLAG_OWN_REALTY|AMT_INCOME_TOTAL|AMT_CREDIT|AMT_ANNUITY|NAME_EDUCATION_TYPE|\n",
      "+----------+------+------------------+-----------+------------+---------------+----------------+----------+-----------+-------------------+\n",
      "|    100002|     1|                 0|          0|           0|              1|        202500.0|  406597.5|    24700.5|                  1|\n",
      "|    100003|     0|                 0|          1|           0|              0|        270000.0| 1293502.5|    35698.5|                  3|\n",
      "|    100004|     0|                 1|          0|           1|              1|         67500.0|  135000.0|     6750.0|                  1|\n",
      "|    100006|     0|                 0|          1|           0|              1|        135000.0|  312682.5|    29686.5|                  1|\n",
      "|    100007|     0|                 0|          0|           0|              1|        121500.0|  513000.0|    21865.5|                  1|\n",
      "+----------+------+------------------+-----------+------------+---------------+----------------+----------+-----------+-------------------+\n",
      "only showing top 5 rows\n",
      "\n"
     ]
    }
   ],
   "source": [
    "train.select(train.columns[:10]).show(5)"
   ]
  },
  {
   "cell_type": "code",
   "execution_count": 12,
   "id": "5fefb0b6-0554-47ec-8d10-dc11ce10803a",
   "metadata": {},
   "outputs": [
    {
     "name": "stderr",
     "output_type": "stream",
     "text": [
      "[Stage 9:>                                                          (0 + 1) / 1]"
     ]
    },
    {
     "name": "stdout",
     "output_type": "stream",
     "text": [
      "+----------+------+------------------+-----------+------------+---------------+----------------+----------+-----------+-------------------+\n",
      "|SK_ID_CURR|TARGET|NAME_CONTRACT_TYPE|CODE_GENDER|FLAG_OWN_CAR|FLAG_OWN_REALTY|AMT_INCOME_TOTAL|AMT_CREDIT|AMT_ANNUITY|NAME_EDUCATION_TYPE|\n",
      "+----------+------+------------------+-----------+------------+---------------+----------------+----------+-----------+-------------------+\n",
      "|    100001|  NULL|                 0|          1|           0|              1|        135000.0|  568800.0|    20560.5|                  3|\n",
      "|    100005|  NULL|                 0|          0|           0|              1|         99000.0|  222768.0|    17370.0|                  1|\n",
      "|    100013|  NULL|                 0|          0|           1|              1|        202500.0|  663264.0|    69777.0|                  3|\n",
      "|    100028|  NULL|                 0|          1|           0|              1|        315000.0| 1575000.0|    49018.5|                  1|\n",
      "|    100038|  NULL|                 0|          0|           1|              0|        180000.0|  625500.0|    32067.0|                  1|\n",
      "+----------+------+------------------+-----------+------------+---------------+----------------+----------+-----------+-------------------+\n",
      "only showing top 5 rows\n",
      "\n"
     ]
    },
    {
     "name": "stderr",
     "output_type": "stream",
     "text": [
      "                                                                                "
     ]
    }
   ],
   "source": [
    "test.select(test.columns[:10]).show(5)"
   ]
  },
  {
   "cell_type": "markdown",
   "id": "964ddf43-bebe-4c77-9373-95d0e5bf054e",
   "metadata": {},
   "source": [
    "# Check Missing Values"
   ]
  },
  {
   "cell_type": "code",
   "execution_count": 13,
   "id": "5f7acd8f-fc6f-4ce8-ae98-1ad8c0f1cf8a",
   "metadata": {},
   "outputs": [],
   "source": [
    "def missing_values_summary(df):\n",
    "    null_counts = df.select([\n",
    "        sum(col(c).isNull().cast(\"int\")).alias(c) for c in df.columns\n",
    "    ])\n",
    "    \n",
    "    nulls = null_counts.first().asDict()\n",
    "    total_missing = 0\n",
    "\n",
    "    for col_name, null_count in nulls.items():\n",
    "        if null_count > 0:\n",
    "            print(f\"Column '{col_name}': {null_count} missing values\")\n",
    "            total_missing += null_count\n",
    "\n",
    "    if total_missing == 0:\n",
    "        print(\"No missing values in any column.\")"
   ]
  },
  {
   "cell_type": "code",
   "execution_count": 14,
   "id": "03a75915-6f56-490b-b481-fefdcdf19757",
   "metadata": {},
   "outputs": [
    {
     "name": "stderr",
     "output_type": "stream",
     "text": [
      "[Stage 12:>                                                         (0 + 1) / 1]"
     ]
    },
    {
     "name": "stdout",
     "output_type": "stream",
     "text": [
      "No missing values in any column.\n"
     ]
    },
    {
     "name": "stderr",
     "output_type": "stream",
     "text": [
      "                                                                                "
     ]
    }
   ],
   "source": [
    "missing_values_summary(train)"
   ]
  },
  {
   "cell_type": "code",
   "execution_count": 15,
   "id": "6d79eaf0-fde5-4414-b959-68c0b725946b",
   "metadata": {},
   "outputs": [
    {
     "name": "stderr",
     "output_type": "stream",
     "text": [
      "[Stage 15:>                                                         (0 + 1) / 1]"
     ]
    },
    {
     "name": "stdout",
     "output_type": "stream",
     "text": [
      "Column 'TARGET': 48740 missing values\n"
     ]
    },
    {
     "name": "stderr",
     "output_type": "stream",
     "text": [
      "                                                                                "
     ]
    }
   ],
   "source": [
    "missing_values_summary(test)"
   ]
  },
  {
   "cell_type": "markdown",
   "id": "976c9482-bb12-4220-8482-94417afe7506",
   "metadata": {},
   "source": [
    "# Define the New Schema"
   ]
  },
  {
   "cell_type": "code",
   "execution_count": 16,
   "id": "19c35e38-a4b7-47b3-be41-3fb7ed7fb19b",
   "metadata": {},
   "outputs": [],
   "source": [
    "# Convert boolean columns to double\n",
    "train = train.withColumn(\"HIGH_CTI\", F.col(\"HIGH_CTI\").cast(\"double\")) \\\n",
    "       .withColumn(\"HIGH_ATI\", F.col(\"HIGH_ATI\").cast(\"double\")) \\\n",
    "       .withColumn(\"HIGH_GTI\", F.col(\"HIGH_GTI\").cast(\"double\"))\n",
    "\n",
    "# Convert boolean columns to double\n",
    "test = test.withColumn(\"HIGH_CTI\", F.col(\"HIGH_CTI\").cast(\"double\")) \\\n",
    "       .withColumn(\"HIGH_ATI\", F.col(\"HIGH_ATI\").cast(\"double\")) \\\n",
    "       .withColumn(\"HIGH_GTI\", F.col(\"HIGH_GTI\").cast(\"double\"))"
   ]
  },
  {
   "cell_type": "code",
   "execution_count": 17,
   "id": "81e09d16-53c9-4336-b247-13c4283c56cc",
   "metadata": {},
   "outputs": [],
   "source": [
    "# # Get the original schema\n",
    "# original_schema = train.schema\n",
    "\n",
    "# # Create a new schema with nullable = False for all columns\n",
    "# new_schema = StructType([\n",
    "#     StructField(field.name, field.dataType, nullable=False)\n",
    "#     for field in original_schema\n",
    "# ])"
   ]
  },
  {
   "cell_type": "code",
   "execution_count": 18,
   "id": "548b2371-9fde-4dbc-84d6-44aa22f5bbeb",
   "metadata": {},
   "outputs": [],
   "source": [
    "# # Recreate DataFrames using full schema (preserving all columns)\n",
    "# train = spark.createDataFrame(train.rdd, schema=new_schema)\n",
    "# test = spark.createDataFrame(test.rdd, schema=new_schema)"
   ]
  },
  {
   "cell_type": "code",
   "execution_count": 19,
   "id": "7aca13e7-357b-4387-8b93-5f1cfc922384",
   "metadata": {},
   "outputs": [],
   "source": [
    "test = test.drop(\"TARGET\")"
   ]
  },
  {
   "cell_type": "code",
   "execution_count": 20,
   "id": "f442bc07-0f22-49a7-ae7c-98c1126955e6",
   "metadata": {
    "scrolled": true
   },
   "outputs": [
    {
     "name": "stdout",
     "output_type": "stream",
     "text": [
      "root\n",
      " |-- SK_ID_CURR: string (nullable = true)\n",
      " |-- TARGET: long (nullable = true)\n",
      " |-- NAME_CONTRACT_TYPE: long (nullable = true)\n",
      " |-- CODE_GENDER: long (nullable = true)\n",
      " |-- FLAG_OWN_CAR: long (nullable = true)\n",
      " |-- FLAG_OWN_REALTY: long (nullable = true)\n",
      " |-- AMT_INCOME_TOTAL: double (nullable = true)\n",
      " |-- AMT_CREDIT: double (nullable = true)\n",
      " |-- AMT_ANNUITY: double (nullable = true)\n",
      " |-- NAME_EDUCATION_TYPE: long (nullable = true)\n",
      " |-- REGION_POPULATION_RELATIVE: double (nullable = true)\n",
      " |-- DAYS_BIRTH: long (nullable = true)\n",
      " |-- DAYS_EMPLOYED: long (nullable = true)\n",
      " |-- DAYS_REGISTRATION: double (nullable = true)\n",
      " |-- DAYS_ID_PUBLISH: long (nullable = true)\n",
      " |-- OWN_CAR_AGE: double (nullable = true)\n",
      " |-- FLAG_MOBIL: long (nullable = true)\n",
      " |-- FLAG_WORK_PHONE: long (nullable = true)\n",
      " |-- FLAG_CONT_MOBILE: long (nullable = true)\n",
      " |-- FLAG_PHONE: long (nullable = true)\n",
      " |-- FLAG_EMAIL: long (nullable = true)\n",
      " |-- OCCUPATION_TYPE: double (nullable = true)\n",
      " |-- CNT_FAM_MEMBERS: double (nullable = true)\n",
      " |-- REGION_RATING_CLIENT_W_CITY: long (nullable = true)\n",
      " |-- HOUR_APPR_PROCESS_START: long (nullable = true)\n",
      " |-- REG_REGION_NOT_LIVE_REGION: long (nullable = true)\n",
      " |-- LIVE_REGION_NOT_WORK_REGION: long (nullable = true)\n",
      " |-- REG_CITY_NOT_LIVE_CITY: long (nullable = true)\n",
      " |-- LIVE_CITY_NOT_WORK_CITY: long (nullable = true)\n",
      " |-- EXT_SOURCE_1: double (nullable = true)\n",
      " |-- EXT_SOURCE_2: double (nullable = true)\n",
      " |-- EXT_SOURCE_3: double (nullable = true)\n",
      " |-- LIVINGAPARTMENTS_MEDI: double (nullable = true)\n",
      " |-- LIVINGAREA_MEDI: double (nullable = true)\n",
      " |-- OBS_30_CNT_SOCIAL_CIRCLE: double (nullable = true)\n",
      " |-- DEF_30_CNT_SOCIAL_CIRCLE: double (nullable = true)\n",
      " |-- DAYS_LAST_PHONE_CHANGE: double (nullable = true)\n",
      " |-- FLAG_DOCUMENT_2: long (nullable = true)\n",
      " |-- FLAG_DOCUMENT_3: long (nullable = true)\n",
      " |-- FLAG_DOCUMENT_4: long (nullable = true)\n",
      " |-- FLAG_DOCUMENT_5: long (nullable = true)\n",
      " |-- FLAG_DOCUMENT_6: long (nullable = true)\n",
      " |-- FLAG_DOCUMENT_7: long (nullable = true)\n",
      " |-- FLAG_DOCUMENT_8: long (nullable = true)\n",
      " |-- FLAG_DOCUMENT_9: long (nullable = true)\n",
      " |-- FLAG_DOCUMENT_10: long (nullable = true)\n",
      " |-- FLAG_DOCUMENT_11: long (nullable = true)\n",
      " |-- FLAG_DOCUMENT_12: long (nullable = true)\n",
      " |-- FLAG_DOCUMENT_13: long (nullable = true)\n",
      " |-- FLAG_DOCUMENT_14: long (nullable = true)\n",
      " |-- FLAG_DOCUMENT_15: long (nullable = true)\n",
      " |-- FLAG_DOCUMENT_16: long (nullable = true)\n",
      " |-- FLAG_DOCUMENT_17: long (nullable = true)\n",
      " |-- FLAG_DOCUMENT_18: long (nullable = true)\n",
      " |-- FLAG_DOCUMENT_19: long (nullable = true)\n",
      " |-- FLAG_DOCUMENT_20: long (nullable = true)\n",
      " |-- FLAG_DOCUMENT_21: long (nullable = true)\n",
      " |-- AMT_REQ_CREDIT_BUREAU_HOUR: double (nullable = true)\n",
      " |-- AMT_REQ_CREDIT_BUREAU_DAY: double (nullable = true)\n",
      " |-- AMT_REQ_CREDIT_BUREAU_WEEK: double (nullable = true)\n",
      " |-- AMT_REQ_CREDIT_BUREAU_MON: double (nullable = true)\n",
      " |-- AMT_REQ_CREDIT_BUREAU_QRT: double (nullable = true)\n",
      " |-- AMT_REQ_CREDIT_BUREAU_YEAR: double (nullable = true)\n",
      " |-- FLAG_CREDIT_BUREAU_MISSING: long (nullable = true)\n",
      " |-- FLAG_EXT_SOURCE_3_MISSING: long (nullable = true)\n",
      " |-- FLAG_EXT_SOURCE_1_MISSING: long (nullable = true)\n",
      " |-- REVOLVING_GOODS_OVER_CREDIT: long (nullable = true)\n",
      " |-- GOODS_CREDIT_RATIO: double (nullable = true)\n",
      " |-- HIGH_CTI: double (nullable = true)\n",
      " |-- HIGH_CTI_RISK: long (nullable = true)\n",
      " |-- ATI_RATIO: double (nullable = true)\n",
      " |-- HIGH_ATI: double (nullable = true)\n",
      " |-- HIGH_ATI_RISK: long (nullable = true)\n",
      " |-- HIGH_GTI: double (nullable = true)\n",
      " |-- HIGH_GTI_RISK: long (nullable = true)\n",
      " |-- EMERGENCY_YES: long (nullable = true)\n",
      " |-- WEEKDAY_SIN: double (nullable = true)\n",
      " |-- WEEKDAY_COS: double (nullable = true)\n",
      " |-- NAME_TYPE_SUITE_Group of people: long (nullable = true)\n",
      " |-- NAME_TYPE_SUITE_Other_A: long (nullable = true)\n",
      " |-- NAME_TYPE_SUITE_Other_B: long (nullable = true)\n",
      " |-- NAME_TYPE_SUITE_Spouse, partner: long (nullable = true)\n",
      " |-- NAME_TYPE_SUITE_Unaccompanied: long (nullable = true)\n",
      " |-- NAME_INCOME_TYPE_Commercial associate: long (nullable = true)\n",
      " |-- NAME_INCOME_TYPE_Maternity leave: long (nullable = true)\n",
      " |-- NAME_INCOME_TYPE_State servant: long (nullable = true)\n",
      " |-- NAME_INCOME_TYPE_Student: long (nullable = true)\n",
      " |-- NAME_INCOME_TYPE_Unemployed: long (nullable = true)\n",
      " |-- NAME_INCOME_TYPE_Working: long (nullable = true)\n",
      " |-- NAME_FAMILY_STATUS_Married: long (nullable = true)\n",
      " |-- NAME_FAMILY_STATUS_Separated: long (nullable = true)\n",
      " |-- NAME_FAMILY_STATUS_Single / not married: long (nullable = true)\n",
      " |-- NAME_FAMILY_STATUS_Unknown: long (nullable = true)\n",
      " |-- NAME_FAMILY_STATUS_Widow: long (nullable = true)\n",
      " |-- NAME_HOUSING_TYPE_House / apartment: long (nullable = true)\n",
      " |-- NAME_HOUSING_TYPE_Municipal apartment: long (nullable = true)\n",
      " |-- NAME_HOUSING_TYPE_Office apartment: long (nullable = true)\n",
      " |-- NAME_HOUSING_TYPE_Rented apartment: long (nullable = true)\n",
      " |-- NAME_HOUSING_TYPE_With parents: long (nullable = true)\n",
      " |-- FONDKAPREMONT_MODE_not specified: long (nullable = true)\n",
      " |-- FONDKAPREMONT_MODE_org spec account: long (nullable = true)\n",
      " |-- FONDKAPREMONT_MODE_reg oper account: long (nullable = true)\n",
      " |-- FONDKAPREMONT_MODE_reg oper spec account: long (nullable = true)\n",
      " |-- HOUSETYPE_MODE_specific housing: long (nullable = true)\n",
      " |-- HOUSETYPE_MODE_terraced house: long (nullable = true)\n",
      " |-- WALLSMATERIAL_MODE_Mixed: long (nullable = true)\n",
      " |-- WALLSMATERIAL_MODE_Monolithic: long (nullable = true)\n",
      " |-- WALLSMATERIAL_MODE_Others: long (nullable = true)\n",
      " |-- WALLSMATERIAL_MODE_Panel: long (nullable = true)\n",
      " |-- WALLSMATERIAL_MODE_Stone, brick: long (nullable = true)\n",
      " |-- WALLSMATERIAL_MODE_Wooden: long (nullable = true)\n",
      " |-- EMPLOYMENT_STATUS_Mid_Term: long (nullable = true)\n",
      " |-- EMPLOYMENT_STATUS_Short_Term: long (nullable = true)\n",
      " |-- ORGANIZATION_TYPE_ENCODED: double (nullable = true)\n",
      "\n"
     ]
    }
   ],
   "source": [
    "train.printSchema()"
   ]
  },
  {
   "cell_type": "code",
   "execution_count": 21,
   "id": "6a783156-6b83-47fe-b7ab-a9916515f886",
   "metadata": {
    "scrolled": true
   },
   "outputs": [
    {
     "name": "stdout",
     "output_type": "stream",
     "text": [
      "root\n",
      " |-- SK_ID_CURR: string (nullable = true)\n",
      " |-- NAME_CONTRACT_TYPE: long (nullable = true)\n",
      " |-- CODE_GENDER: long (nullable = true)\n",
      " |-- FLAG_OWN_CAR: long (nullable = true)\n",
      " |-- FLAG_OWN_REALTY: long (nullable = true)\n",
      " |-- AMT_INCOME_TOTAL: double (nullable = true)\n",
      " |-- AMT_CREDIT: double (nullable = true)\n",
      " |-- AMT_ANNUITY: double (nullable = true)\n",
      " |-- NAME_EDUCATION_TYPE: long (nullable = true)\n",
      " |-- REGION_POPULATION_RELATIVE: double (nullable = true)\n",
      " |-- DAYS_BIRTH: long (nullable = true)\n",
      " |-- DAYS_EMPLOYED: long (nullable = true)\n",
      " |-- DAYS_REGISTRATION: double (nullable = true)\n",
      " |-- DAYS_ID_PUBLISH: long (nullable = true)\n",
      " |-- OWN_CAR_AGE: double (nullable = true)\n",
      " |-- FLAG_MOBIL: long (nullable = true)\n",
      " |-- FLAG_WORK_PHONE: long (nullable = true)\n",
      " |-- FLAG_CONT_MOBILE: long (nullable = true)\n",
      " |-- FLAG_PHONE: long (nullable = true)\n",
      " |-- FLAG_EMAIL: long (nullable = true)\n",
      " |-- OCCUPATION_TYPE: double (nullable = true)\n",
      " |-- CNT_FAM_MEMBERS: double (nullable = true)\n",
      " |-- REGION_RATING_CLIENT_W_CITY: long (nullable = true)\n",
      " |-- HOUR_APPR_PROCESS_START: long (nullable = true)\n",
      " |-- REG_REGION_NOT_LIVE_REGION: long (nullable = true)\n",
      " |-- LIVE_REGION_NOT_WORK_REGION: long (nullable = true)\n",
      " |-- REG_CITY_NOT_LIVE_CITY: long (nullable = true)\n",
      " |-- LIVE_CITY_NOT_WORK_CITY: long (nullable = true)\n",
      " |-- EXT_SOURCE_1: double (nullable = true)\n",
      " |-- EXT_SOURCE_2: double (nullable = true)\n",
      " |-- EXT_SOURCE_3: double (nullable = true)\n",
      " |-- LIVINGAPARTMENTS_MEDI: double (nullable = true)\n",
      " |-- LIVINGAREA_MEDI: double (nullable = true)\n",
      " |-- OBS_30_CNT_SOCIAL_CIRCLE: double (nullable = true)\n",
      " |-- DEF_30_CNT_SOCIAL_CIRCLE: double (nullable = true)\n",
      " |-- DAYS_LAST_PHONE_CHANGE: double (nullable = true)\n",
      " |-- FLAG_DOCUMENT_2: long (nullable = true)\n",
      " |-- FLAG_DOCUMENT_3: long (nullable = true)\n",
      " |-- FLAG_DOCUMENT_4: long (nullable = true)\n",
      " |-- FLAG_DOCUMENT_5: long (nullable = true)\n",
      " |-- FLAG_DOCUMENT_6: long (nullable = true)\n",
      " |-- FLAG_DOCUMENT_7: long (nullable = true)\n",
      " |-- FLAG_DOCUMENT_8: long (nullable = true)\n",
      " |-- FLAG_DOCUMENT_9: long (nullable = true)\n",
      " |-- FLAG_DOCUMENT_10: long (nullable = true)\n",
      " |-- FLAG_DOCUMENT_11: long (nullable = true)\n",
      " |-- FLAG_DOCUMENT_12: long (nullable = true)\n",
      " |-- FLAG_DOCUMENT_13: long (nullable = true)\n",
      " |-- FLAG_DOCUMENT_14: long (nullable = true)\n",
      " |-- FLAG_DOCUMENT_15: long (nullable = true)\n",
      " |-- FLAG_DOCUMENT_16: long (nullable = true)\n",
      " |-- FLAG_DOCUMENT_17: long (nullable = true)\n",
      " |-- FLAG_DOCUMENT_18: long (nullable = true)\n",
      " |-- FLAG_DOCUMENT_19: long (nullable = true)\n",
      " |-- FLAG_DOCUMENT_20: long (nullable = true)\n",
      " |-- FLAG_DOCUMENT_21: long (nullable = true)\n",
      " |-- AMT_REQ_CREDIT_BUREAU_HOUR: double (nullable = true)\n",
      " |-- AMT_REQ_CREDIT_BUREAU_DAY: double (nullable = true)\n",
      " |-- AMT_REQ_CREDIT_BUREAU_WEEK: double (nullable = true)\n",
      " |-- AMT_REQ_CREDIT_BUREAU_MON: double (nullable = true)\n",
      " |-- AMT_REQ_CREDIT_BUREAU_QRT: double (nullable = true)\n",
      " |-- AMT_REQ_CREDIT_BUREAU_YEAR: double (nullable = true)\n",
      " |-- FLAG_CREDIT_BUREAU_MISSING: long (nullable = true)\n",
      " |-- FLAG_EXT_SOURCE_3_MISSING: long (nullable = true)\n",
      " |-- FLAG_EXT_SOURCE_1_MISSING: long (nullable = true)\n",
      " |-- REVOLVING_GOODS_OVER_CREDIT: long (nullable = true)\n",
      " |-- GOODS_CREDIT_RATIO: double (nullable = true)\n",
      " |-- HIGH_CTI: double (nullable = true)\n",
      " |-- HIGH_CTI_RISK: long (nullable = true)\n",
      " |-- ATI_RATIO: double (nullable = true)\n",
      " |-- HIGH_ATI: double (nullable = true)\n",
      " |-- HIGH_ATI_RISK: long (nullable = true)\n",
      " |-- HIGH_GTI: double (nullable = true)\n",
      " |-- HIGH_GTI_RISK: long (nullable = true)\n",
      " |-- EMERGENCY_YES: long (nullable = true)\n",
      " |-- WEEKDAY_SIN: double (nullable = true)\n",
      " |-- WEEKDAY_COS: double (nullable = true)\n",
      " |-- NAME_TYPE_SUITE_Group of people: long (nullable = true)\n",
      " |-- NAME_TYPE_SUITE_Other_A: long (nullable = true)\n",
      " |-- NAME_TYPE_SUITE_Other_B: long (nullable = true)\n",
      " |-- NAME_TYPE_SUITE_Spouse, partner: long (nullable = true)\n",
      " |-- NAME_TYPE_SUITE_Unaccompanied: long (nullable = true)\n",
      " |-- NAME_INCOME_TYPE_Commercial associate: long (nullable = true)\n",
      " |-- NAME_INCOME_TYPE_Maternity leave: long (nullable = true)\n",
      " |-- NAME_INCOME_TYPE_State servant: long (nullable = true)\n",
      " |-- NAME_INCOME_TYPE_Student: long (nullable = true)\n",
      " |-- NAME_INCOME_TYPE_Unemployed: long (nullable = true)\n",
      " |-- NAME_INCOME_TYPE_Working: long (nullable = true)\n",
      " |-- NAME_FAMILY_STATUS_Married: long (nullable = true)\n",
      " |-- NAME_FAMILY_STATUS_Separated: long (nullable = true)\n",
      " |-- NAME_FAMILY_STATUS_Single / not married: long (nullable = true)\n",
      " |-- NAME_FAMILY_STATUS_Unknown: long (nullable = true)\n",
      " |-- NAME_FAMILY_STATUS_Widow: long (nullable = true)\n",
      " |-- NAME_HOUSING_TYPE_House / apartment: long (nullable = true)\n",
      " |-- NAME_HOUSING_TYPE_Municipal apartment: long (nullable = true)\n",
      " |-- NAME_HOUSING_TYPE_Office apartment: long (nullable = true)\n",
      " |-- NAME_HOUSING_TYPE_Rented apartment: long (nullable = true)\n",
      " |-- NAME_HOUSING_TYPE_With parents: long (nullable = true)\n",
      " |-- FONDKAPREMONT_MODE_not specified: long (nullable = true)\n",
      " |-- FONDKAPREMONT_MODE_org spec account: long (nullable = true)\n",
      " |-- FONDKAPREMONT_MODE_reg oper account: long (nullable = true)\n",
      " |-- FONDKAPREMONT_MODE_reg oper spec account: long (nullable = true)\n",
      " |-- HOUSETYPE_MODE_specific housing: long (nullable = true)\n",
      " |-- HOUSETYPE_MODE_terraced house: long (nullable = true)\n",
      " |-- WALLSMATERIAL_MODE_Mixed: long (nullable = true)\n",
      " |-- WALLSMATERIAL_MODE_Monolithic: long (nullable = true)\n",
      " |-- WALLSMATERIAL_MODE_Others: long (nullable = true)\n",
      " |-- WALLSMATERIAL_MODE_Panel: long (nullable = true)\n",
      " |-- WALLSMATERIAL_MODE_Stone, brick: long (nullable = true)\n",
      " |-- WALLSMATERIAL_MODE_Wooden: long (nullable = true)\n",
      " |-- EMPLOYMENT_STATUS_Mid_Term: long (nullable = true)\n",
      " |-- EMPLOYMENT_STATUS_Short_Term: long (nullable = true)\n",
      " |-- ORGANIZATION_TYPE_ENCODED: double (nullable = true)\n",
      "\n"
     ]
    }
   ],
   "source": [
    "test.printSchema()"
   ]
  },
  {
   "cell_type": "markdown",
   "id": "c2f2397c-8f39-468a-b253-a602b2c8550a",
   "metadata": {},
   "source": [
    "# Vector Assembler"
   ]
  },
  {
   "cell_type": "code",
   "execution_count": 22,
   "id": "740c1aa6-d446-4a73-92c1-c1f55dbfccd8",
   "metadata": {},
   "outputs": [],
   "source": [
    "# Feature selection\n",
    "feature_cols = [c for c in train.columns if c not in ['SK_ID_CURR', 'TARGET']]\n",
    "assembler = VectorAssembler(inputCols=feature_cols, outputCol=\"features\")"
   ]
  },
  {
   "cell_type": "markdown",
   "id": "49d0a60a-9b18-48ce-a4fd-e1e2a93e529b",
   "metadata": {},
   "source": [
    "# Handling class imbalance"
   ]
  },
  {
   "cell_type": "code",
   "execution_count": 23,
   "id": "57f7606b-a927-40ec-9aac-8b6bc9a91eb5",
   "metadata": {},
   "outputs": [
    {
     "name": "stderr",
     "output_type": "stream",
     "text": [
      "                                                                                "
     ]
    }
   ],
   "source": [
    "# Calculate class weights\n",
    "pos_count = train.filter(F.col(\"TARGET\") == 1).count()\n",
    "neg_count = train.count() - pos_count\n",
    "weight_ratio = neg_count / pos_count if pos_count > 0 else 1.0\n",
    "train = train.withColumn(\"weight\", F.when(F.col(\"TARGET\") == 1, weight_ratio).otherwise(1))"
   ]
  },
  {
   "cell_type": "markdown",
   "id": "5fcad505-0855-4317-8bfc-7ffa210690bb",
   "metadata": {},
   "source": [
    "# Model Building"
   ]
  },
  {
   "cell_type": "code",
   "execution_count": 24,
   "id": "4eb5be4e-73fb-417d-ae30-2d1c5c45830d",
   "metadata": {},
   "outputs": [],
   "source": [
    "models = {\n",
    "    \"Random Forest\": RandomForestClassifier(\n",
    "        featuresCol=\"features\",\n",
    "        labelCol=\"TARGET\",\n",
    "        weightCol=\"weight\",\n",
    "        numTrees=50,           \n",
    "        maxDepth=6,            \n",
    "        maxBins=32,\n",
    "        subsamplingRate=0.8,   \n",
    "        featureSubsetStrategy=\"sqrt\",\n",
    "        seed=42\n",
    "    ),\n",
    "    \"GBT\": GBTClassifier(\n",
    "        featuresCol=\"features\",\n",
    "        labelCol=\"TARGET\",\n",
    "        weightCol=\"weight\",\n",
    "        maxIter=30,\n",
    "        maxDepth=4,\n",
    "        stepSize=0.1,\n",
    "        minInstancesPerNode=100,\n",
    "        seed=42\n",
    "    ),\n",
    "    \"Decision Tree\": DecisionTreeClassifier(\n",
    "        featuresCol=\"features\",\n",
    "        labelCol=\"TARGET\",\n",
    "        weightCol=\"weight\",\n",
    "        maxDepth=6,\n",
    "        minInstancesPerNode=100,\n",
    "        maxBins=32,\n",
    "        seed=42\n",
    "    )\n",
    "}"
   ]
  },
  {
   "cell_type": "markdown",
   "id": "a2c89f2c-938f-4027-9cbc-9249a3680491",
   "metadata": {},
   "source": [
    "# Splitting the Dataset"
   ]
  },
  {
   "cell_type": "code",
   "execution_count": 25,
   "id": "73017eba-572f-4808-a485-b0d117ba07bc",
   "metadata": {},
   "outputs": [],
   "source": [
    "# Stratified train/validation split\n",
    "fractions = {0: 0.8, 1: 0.8}  # Same fraction for both classes\n",
    "train_data = train.sampleBy(\"TARGET\", fractions, seed=42)\n",
    "val_data = train.subtract(train_data)"
   ]
  },
  {
   "cell_type": "code",
   "execution_count": 26,
   "id": "d47bbaf4-a4d9-4f93-bf52-a06c32191024",
   "metadata": {},
   "outputs": [],
   "source": [
    "# Evaluation function with AUC-ROC\n",
    "def evaluate_model(model, val_data, model_name):\n",
    "    start_time = time.time()\n",
    "    \n",
    "    # Predict\n",
    "    predictions = model.transform(val_data)\n",
    "    \n",
    "    # AUC-ROC\n",
    "    roc_evaluator = BinaryClassificationEvaluator(\n",
    "        labelCol=\"TARGET\",\n",
    "        rawPredictionCol=\"rawPrediction\",\n",
    "        metricName=\"areaUnderROC\"\n",
    "    )\n",
    "    roc_auc = roc_evaluator.evaluate(predictions)\n",
    "    \n",
    "    # Confusion matrix at default threshold (0.5)\n",
    "    confusion = predictions.groupBy(\"TARGET\", \"prediction\").count().collect()\n",
    "    tp = fp = fn = 0\n",
    "    for row in confusion:\n",
    "        if row['TARGET'] == 1 and row['prediction'] == 1:\n",
    "            tp = row['count']\n",
    "        elif row['TARGET'] == 0 and row['prediction'] == 1:\n",
    "            fp = row['count']\n",
    "        elif row['TARGET'] == 1 and row['prediction'] == 0:\n",
    "            fn = row['count']\n",
    "    \n",
    "    precision = tp / (tp + fp) if (tp + fp) > 0 else 0\n",
    "    recall = tp / (tp + fn) if (tp + fn) > 0 else 0\n",
    "    f1 = 2 * (precision * recall) / (precision + recall) if (precision + recall) > 0 else 0\n",
    "    \n",
    "    elapsed = time.time() - start_time\n",
    "    \n",
    "    print(f\"\\n{model_name} Results:\")\n",
    "    print(f\"AUC-ROC: {roc_auc:.4f}\")\n",
    "    print(f\"Recall: {recall:.4f}\")\n",
    "    print(f\"Precision: {precision:.4f}\")\n",
    "    print(f\"F1 Score: {f1:.4f}\")\n",
    "    print(f\"Evaluation Time: {elapsed:.1f}s\")\n",
    "    \n",
    "    return {\n",
    "        \"model\": model,\n",
    "        \"roc_auc\": roc_auc,\n",
    "        \"recall\": recall,\n",
    "        \"precision\": precision,\n",
    "        \"f1\": f1\n",
    "    }"
   ]
  },
  {
   "cell_type": "code",
   "execution_count": 27,
   "id": "aaf2dd14-4acc-497d-9f22-b7caf1c63504",
   "metadata": {},
   "outputs": [
    {
     "name": "stdout",
     "output_type": "stream",
     "text": [
      "==================================================\n",
      "Training Random Forest\n",
      "==================================================\n"
     ]
    },
    {
     "name": "stderr",
     "output_type": "stream",
     "text": [
      "                                                                                "
     ]
    },
    {
     "name": "stdout",
     "output_type": "stream",
     "text": [
      "\n",
      "Random Forest Results:\n",
      "AUC-ROC: 0.7312\n",
      "Recall: 0.6641\n",
      "Precision: 0.1555\n",
      "F1 Score: 0.2520\n",
      "Evaluation Time: 53.0s\n"
     ]
    },
    {
     "name": "stderr",
     "output_type": "stream",
     "text": [
      "\u001b[31m2025/08/30 15:02:04 WARNING mlflow.models.model: Model logged without a signature and input example. Please set `input_example` parameter when logging the model to auto infer the model signature.\u001b[0m\n"
     ]
    },
    {
     "name": "stdout",
     "output_type": "stream",
     "text": [
      "Training Time: 73.4s\n",
      "==================================================\n",
      "Training GBT\n",
      "==================================================\n"
     ]
    },
    {
     "name": "stderr",
     "output_type": "stream",
     "text": [
      "                                                                                "
     ]
    },
    {
     "name": "stdout",
     "output_type": "stream",
     "text": [
      "\n",
      "GBT Results:\n",
      "AUC-ROC: 0.7419\n",
      "Recall: 0.6690\n",
      "Precision: 0.1588\n",
      "F1 Score: 0.2567\n",
      "Evaluation Time: 29.6s\n"
     ]
    },
    {
     "name": "stderr",
     "output_type": "stream",
     "text": [
      "\u001b[31m2025/08/30 15:04:45 WARNING mlflow.models.model: Model logged without a signature and input example. Please set `input_example` parameter when logging the model to auto infer the model signature.\u001b[0m\n"
     ]
    },
    {
     "name": "stdout",
     "output_type": "stream",
     "text": [
      "Training Time: 94.2s\n",
      "==================================================\n",
      "Training Decision Tree\n",
      "==================================================\n"
     ]
    },
    {
     "name": "stderr",
     "output_type": "stream",
     "text": [
      "                                                                                "
     ]
    },
    {
     "name": "stdout",
     "output_type": "stream",
     "text": [
      "\n",
      "Decision Tree Results:\n",
      "AUC-ROC: 0.5450\n",
      "Recall: 0.6611\n",
      "Precision: 0.1458\n",
      "F1 Score: 0.2389\n",
      "Evaluation Time: 24.5s\n"
     ]
    },
    {
     "name": "stderr",
     "output_type": "stream",
     "text": [
      "\u001b[31m2025/08/30 15:06:02 WARNING mlflow.models.model: Model logged without a signature and input example. Please set `input_example` parameter when logging the model to auto infer the model signature.\u001b[0m\n"
     ]
    },
    {
     "name": "stdout",
     "output_type": "stream",
     "text": [
      "Training Time: 20.3s\n"
     ]
    }
   ],
   "source": [
    "results = {}\n",
    "with mlflow.start_run():\n",
    "    for model_name, classifier in models.items():\n",
    "        print(f\"{'='*50}\")\n",
    "        print(f\"Training {model_name}\")\n",
    "        print(f\"{'='*50}\")\n",
    "        \n",
    "        try:\n",
    "            # Start nested run for each model\n",
    "            with mlflow.start_run(nested=True, run_name=model_name):\n",
    "                # Log parameters\n",
    "                mlflow.log_param(\"model_type\", model_name)\n",
    "                mlflow.log_param(\"num_features\", len(feature_cols))\n",
    "                \n",
    "                # Create pipeline\n",
    "                pipeline = Pipeline(stages=[assembler, classifier])\n",
    "                \n",
    "                # Train with timing\n",
    "                train_start = time.time()\n",
    "                model = pipeline.fit(train_data)\n",
    "                train_time = time.time() - train_start\n",
    "                \n",
    "                # Evaluate\n",
    "                eval_results = evaluate_model(model, val_data, model_name)\n",
    "                if eval_results:\n",
    "                    eval_results[\"train_time\"] = train_time\n",
    "                    results[model_name] = eval_results\n",
    "                    \n",
    "                    # Log metrics\n",
    "                    mlflow.log_metrics({\n",
    "                        \"roc_auc\": eval_results[\"roc_auc\"],\n",
    "                        \"recall\": eval_results[\"recall\"],\n",
    "                        \"precision\": eval_results[\"precision\"],\n",
    "                        \"f1\": eval_results[\"f1\"],\n",
    "                        \"train_time\": train_time\n",
    "                    })\n",
    "                    \n",
    "                    # Log model\n",
    "                    mlflow.spark.log_model(model, f\"{model_name}_model\")\n",
    "                    \n",
    "                    print(f\"Training Time: {train_time:.1f}s\")\n",
    "        \n",
    "        except Exception as e:\n",
    "            print(f\"Error training {model_name}: {str(e)}\")\n",
    "            continue"
   ]
  },
  {
   "cell_type": "markdown",
   "id": "b3254c5d-ab47-435d-b9ba-29a01ba3b4a6",
   "metadata": {},
   "source": [
    "# The Best Model"
   ]
  },
  {
   "cell_type": "code",
   "execution_count": 28,
   "id": "c31e2b50-785a-4c50-8a49-6ba97e9f8822",
   "metadata": {},
   "outputs": [
    {
     "name": "stdout",
     "output_type": "stream",
     "text": [
      "Best Model: GBT (AUC-ROC: 0.7419)\n"
     ]
    }
   ],
   "source": [
    "# Get best model from results\n",
    "best_model_name = max(results, key=lambda k: results[k]['roc_auc'])\n",
    "best_model = results[best_model_name]['model']\n",
    "print(f\"Best Model: {best_model_name} (AUC-ROC: {results[best_model_name]['roc_auc']:.4f})\")"
   ]
  },
  {
   "cell_type": "markdown",
   "id": "6a348827-5e44-4ddb-abb9-1a702f17f110",
   "metadata": {},
   "source": [
    "## Feature Importance"
   ]
  },
  {
   "cell_type": "code",
   "execution_count": 29,
   "id": "795a9e05-49c8-4a0d-8326-32703ff48528",
   "metadata": {},
   "outputs": [
    {
     "data": {
      "image/png": "[encoded data removed]",
      "text/plain": [
       "<Figure size 1000x800 with 1 Axes>"
      ]
     },
     "metadata": {},
     "output_type": "display_data"
    },
    {
     "name": "stderr",
     "output_type": "stream",
     "text": [
      "\u001b[31m2025/08/30 15:06:39 WARNING mlflow.models.model: Model logged without a signature and input example. Please set `input_example` parameter when logging the model to auto infer the model signature.\u001b[0m\n"
     ]
    },
    {
     "name": "stdout",
     "output_type": "stream",
     "text": [
      "\n",
      "==================================================\n",
      "Top 20 Features by Importance:\n",
      "EXT_SOURCE_1                            : 0.146457\n",
      "GOODS_CREDIT_RATIO                      : 0.112214\n",
      "EXT_SOURCE_3                            : 0.087756\n",
      "EXT_SOURCE_2                            : 0.080326\n",
      "ORGANIZATION_TYPE_ENCODED               : 0.067367\n",
      "DAYS_BIRTH                              : 0.061592\n",
      "DAYS_EMPLOYED                           : 0.055926\n",
      "NAME_EDUCATION_TYPE                     : 0.052435\n",
      "CODE_GENDER                             : 0.042655\n",
      "AMT_ANNUITY                             : 0.033122\n",
      "AMT_CREDIT                              : 0.032259\n",
      "FLAG_OWN_CAR                            : 0.025099\n",
      "DAYS_ID_PUBLISH                         : 0.019874\n",
      "ATI_RATIO                               : 0.018547\n",
      "OWN_CAR_AGE                             : 0.018031\n",
      "LIVINGAREA_MEDI                         : 0.015960\n",
      "DEF_30_CNT_SOCIAL_CIRCLE                : 0.015069\n",
      "FLAG_DOCUMENT_3                         : 0.014506\n",
      "NAME_FAMILY_STATUS_Married              : 0.013826\n",
      "NAME_INCOME_TYPE_Working                : 0.010031\n",
      "==================================================\n",
      "\n"
     ]
    }
   ],
   "source": [
    "# Extract feature importances\n",
    "classifier_model = best_model.stages[-1]\n",
    "\n",
    "# Feature importance\n",
    "if hasattr(classifier_model, 'featureImportances'):\n",
    "    feature_importances = classifier_model.featureImportances\n",
    "    feature_names = assembler.getInputCols()\n",
    "    \n",
    "    features_importance = [(feature, feature_importances[i]) \n",
    "                         for i, feature in enumerate(feature_names)]\n",
    "    \n",
    "    sorted_features = sorted(features_importance, key=lambda x: x[1], reverse=True)\n",
    "    top_20_features = [feat for feat, imp in sorted_features[:20]]\n",
    "    top_20_importances = [imp for feat, imp in sorted_features[:20]]\n",
    "    \n",
    "    plt.figure(figsize=(10, 8))\n",
    "    y_pos = np.arange(len(top_20_features))\n",
    "    plt.barh(y_pos, top_20_importances, align='center', color='skyblue')\n",
    "    plt.yticks(y_pos, labels=top_20_features)\n",
    "    plt.gca().invert_yaxis()\n",
    "    plt.xlabel('Feature Importance Score')\n",
    "    plt.title('Top 20 Features by Importance')\n",
    "    plt.grid(axis='x', linestyle='--', alpha=0.7)\n",
    "    for i, v in enumerate(top_20_importances):\n",
    "        plt.text(v + 0.001, i, f\"{v:.4f}\", color='black', va='center')\n",
    "    plt.tight_layout()\n",
    "    # plt.savefig(\"/tmp/feature_importance.png\")\n",
    "    plt.show()\n",
    "    plt.close()\n",
    "\n",
    "    with mlflow.start_run(nested=True, run_name=\"Best_Model\"):\n",
    "        # Log metrics\n",
    "        mlflow.log_metrics({\n",
    "            \"roc_auc\": results[best_model_name]['roc_auc'],\n",
    "            \"f1\": results[best_model_name]['f1'],\n",
    "            \"recall\": results[best_model_name]['recall'],\n",
    "            \"precision\": results[best_model_name]['precision']\n",
    "        })\n",
    "        \n",
    "        # Log parameters\n",
    "        mlflow.log_params({\n",
    "            \"best_model_type\": best_model_name,\n",
    "            \"num_features\": len(feature_cols)\n",
    "        })\n",
    "        \n",
    "        # Log model\n",
    "        mlflow.spark.log_model(best_model, \"best_model\")\n",
    "        \n",
    "        # Log artifacts\n",
    "        # mlflow.log_artifact(\"/tmp/feature_importance.png\")\n",
    "        mlflow.log_param(\"top_20_features\", json.dumps(top_20_features))\n",
    "\n",
    "    \n",
    "    print(\"\\n\" + \"=\"*50)\n",
    "    print(\"Top 20 Features by Importance:\")\n",
    "    for feat, imp in sorted_features[:20]:\n",
    "        print(f\"{feat:<40}: {imp:.6f}\")\n",
    "    print(\"=\"*50 + \"\\n\")\n",
    "else:\n",
    "    print(f\"Model {best_model_name} doesn't support feature importances\")\n",
    "    top_20_features = None"
   ]
  },
  {
   "cell_type": "markdown",
   "id": "e2974e7c-e812-4ce9-9590-f89dafade597",
   "metadata": {},
   "source": [
    "## Retraining with Top 20 Features"
   ]
  },
  {
   "cell_type": "code",
   "execution_count": 30,
   "id": "9bfa763a-33e6-4ed5-b012-30a09633d03c",
   "metadata": {},
   "outputs": [
    {
     "name": "stderr",
     "output_type": "stream",
     "text": [
      "                                                                                "
     ]
    },
    {
     "name": "stdout",
     "output_type": "stream",
     "text": [
      "Evaluating top-20 model...\n"
     ]
    },
    {
     "name": "stderr",
     "output_type": "stream",
     "text": [
      "                                                                                "
     ]
    },
    {
     "name": "stdout",
     "output_type": "stream",
     "text": [
      "\n",
      "GBT (Top 20 Features) Results:\n",
      "AUC-ROC: 0.7424\n",
      "Recall: 0.6689\n",
      "Precision: 0.1593\n",
      "F1 Score: 0.2573\n",
      "Evaluation Time: 27.0s\n"
     ]
    },
    {
     "name": "stderr",
     "output_type": "stream",
     "text": [
      "\u001b[31m2025/08/30 15:08:37 WARNING mlflow.models.model: Model logged without a signature and input example. Please set `input_example` parameter when logging the model to auto infer the model signature.\u001b[0m\n"
     ]
    }
   ],
   "source": [
    "if top_20_features:\n",
    "    top_20_assembler = VectorAssembler(inputCols=top_20_features, outputCol=\"features\")\n",
    "\n",
    "    # Get original classifier\n",
    "    original_classifier = models[best_model_name]\n",
    "    \n",
    "    if isinstance(original_classifier, GBTClassifier):\n",
    "        gbt_params = {\n",
    "            'maxIter': original_classifier.getMaxIter(),\n",
    "            'maxDepth': original_classifier.getMaxDepth(),\n",
    "            'stepSize': original_classifier.getStepSize(),\n",
    "            'minInstancesPerNode': original_classifier.getMinInstancesPerNode(),\n",
    "            'seed': original_classifier.getSeed()\n",
    "        }\n",
    "        new_classifier = GBTClassifier(\n",
    "            featuresCol=\"features\",\n",
    "            labelCol=\"TARGET\",\n",
    "            weightCol=\"weight\",\n",
    "            **gbt_params\n",
    "        )\n",
    "    else:\n",
    "        param_map = original_classifier.extractParamMap()\n",
    "        exclude_params = {'featuresCol', 'labelCol', 'weightCol', 'rawPredictionCol'}\n",
    "        params = {param.name: value for param, value in param_map.items() \n",
    "                 if param.name not in exclude_params}\n",
    "        new_classifier = original_classifier.__class__(\n",
    "            featuresCol=\"features\",\n",
    "            labelCol=\"TARGET\",\n",
    "            weightCol=\"weight\",\n",
    "            **params\n",
    "        )\n",
    "    \n",
    "    top20_pipeline = Pipeline(stages=[top_20_assembler, new_classifier])\n",
    "    top20_model = top20_pipeline.fit(train_data)\n",
    "\n",
    "    print(\"Evaluating top-20 model...\")\n",
    "    val_data_top20 = val_data.select(['SK_ID_CURR', 'TARGET', 'weight'] + top_20_features)\n",
    "    top20_results = evaluate_model(top20_model, val_data_top20, f\"{best_model_name} (Top 20 Features)\")    \n",
    "\n",
    "    # MLflow\n",
    "    with mlflow.start_run(nested=True, run_name=\"Top20_Model\"):\n",
    "        mlflow.log_metrics({\n",
    "            \"top20_roc_auc\": top20_results[\"roc_auc\"],\n",
    "            \"top20_f1\": top20_results[\"f1\"]\n",
    "        })\n",
    "        \n",
    "        mlflow.log_params({\n",
    "            \"top20_feature_count\": len(top_20_features),\n",
    "            \"original_model\": best_model_name\n",
    "        })\n",
    "        \n",
    "        mlflow.spark.log_model(top20_model, \"top20_model\")\n",
    "        mlflow.log_param(\"top20_features\", json.dumps(top_20_features))"
   ]
  },
  {
   "cell_type": "markdown",
   "id": "c4e40455-0b8e-462f-a88e-a8bd3e5d3889",
   "metadata": {},
   "source": [
    "## Interpretation of AUC-ROC"
   ]
  },
  {
   "cell_type": "markdown",
   "id": "c266e6f4-4efc-4399-b6a7-6744fdf0ad3b",
   "metadata": {},
   "source": [
    "The AUC-ROC score measures how well the model can distinguish between two groups:\n",
    "- Positive class: borrowers who will default.\n",
    "- Negative class: borrowers who will repay.\n",
    "- AUC = 0.5 → performance equal to random guessing.\n",
    "- AUC = 1.0 → perfect separation of defaulters and non-defaulters.\n",
    "\n",
    "With an AUC of 0.7424, the model has moderate discriminatory power. In practical terms, when comparing a random defaulter and a random non-defaulter, the model has a 74.24% chance of correctly ranking the defaulter as higher risk than the non-defaulter. Conversely, it also means it has a 74.24% chance of correctly ranking the non-defaulter as lower risk than the defaulter.\n",
    "\n",
    "This result indicates that the model is substantially better than chance and can rank borrowers by risk with useful accuracy. In credit scoring practice, AUC values between 0.7 and 0.8 are generally considered good, though not perfect."
   ]
  },
  {
   "cell_type": "code",
   "execution_count": 31,
   "id": "29024f15-1995-4dc1-ab5c-cd2c2c4a0ab5",
   "metadata": {},
   "outputs": [
    {
     "name": "stdout",
     "output_type": "stream",
     "text": [
      "Columns used in transformation:\n",
      "['SK_ID_CURR', 'TARGET', 'weight', 'EXT_SOURCE_1', 'GOODS_CREDIT_RATIO', 'EXT_SOURCE_3', 'EXT_SOURCE_2', 'ORGANIZATION_TYPE_ENCODED', 'DAYS_BIRTH', 'DAYS_EMPLOYED', 'NAME_EDUCATION_TYPE', 'CODE_GENDER', 'AMT_ANNUITY', 'AMT_CREDIT', 'FLAG_OWN_CAR', 'DAYS_ID_PUBLISH', 'ATI_RATIO', 'OWN_CAR_AGE', 'LIVINGAREA_MEDI', 'DEF_30_CNT_SOCIAL_CIRCLE', 'FLAG_DOCUMENT_3', 'NAME_FAMILY_STATUS_Married', 'NAME_INCOME_TYPE_Working', 'features', 'rawPrediction', 'probability', 'prediction']\n",
      "\n",
      "Feature vector schema:\n",
      "{'ml_attr': {'attrs': {'numeric': [{'idx': 0, 'name': 'EXT_SOURCE_1'}, {'idx': 1, 'name': 'GOODS_CREDIT_RATIO'}, {'idx': 2, 'name': 'EXT_SOURCE_3'}, {'idx': 3, 'name': 'EXT_SOURCE_2'}, {'idx': 4, 'name': 'ORGANIZATION_TYPE_ENCODED'}, {'idx': 5, 'name': 'DAYS_BIRTH'}, {'idx': 6, 'name': 'DAYS_EMPLOYED'}, {'idx': 7, 'name': 'NAME_EDUCATION_TYPE'}, {'idx': 8, 'name': 'CODE_GENDER'}, {'idx': 9, 'name': 'AMT_ANNUITY'}, {'idx': 10, 'name': 'AMT_CREDIT'}, {'idx': 11, 'name': 'FLAG_OWN_CAR'}, {'idx': 12, 'name': 'DAYS_ID_PUBLISH'}, {'idx': 13, 'name': 'ATI_RATIO'}, {'idx': 14, 'name': 'OWN_CAR_AGE'}, {'idx': 15, 'name': 'LIVINGAREA_MEDI'}, {'idx': 16, 'name': 'DEF_30_CNT_SOCIAL_CIRCLE'}, {'idx': 17, 'name': 'FLAG_DOCUMENT_3'}, {'idx': 18, 'name': 'NAME_FAMILY_STATUS_Married'}, {'idx': 19, 'name': 'NAME_INCOME_TYPE_Working'}]}, 'num_attrs': 20}}\n"
     ]
    }
   ],
   "source": [
    "# Show what the model actually sees during transformation\n",
    "sample_output = top20_model.transform(val_data_top20.limit(1))\n",
    "\n",
    "print(\"Columns used in transformation:\")\n",
    "print(sample_output.columns)\n",
    "\n",
    "print(\"\\nFeature vector schema:\")\n",
    "print(sample_output.schema[\"features\"].metadata)"
   ]
  },
  {
   "cell_type": "markdown",
   "id": "4efdfb51-a76d-48db-a026-679d0ed37ba0",
   "metadata": {},
   "source": [
    "# Model Predictions on the Test Set"
   ]
  },
  {
   "cell_type": "code",
   "execution_count": 32,
   "id": "6a9d91d9-fd6c-4f07-bfac-aaf002886231",
   "metadata": {
    "scrolled": true
   },
   "outputs": [
    {
     "name": "stdout",
     "output_type": "stream",
     "text": [
      "Sample predictions:\n"
     ]
    },
    {
     "name": "stderr",
     "output_type": "stream",
     "text": [
      "                                                                                "
     ]
    },
    {
     "name": "stdout",
     "output_type": "stream",
     "text": [
      "+----------+------+\n",
      "|SK_ID_CURR|TARGET|\n",
      "+----------+------+\n",
      "|    100001|   0.0|\n",
      "|    100005|   1.0|\n",
      "|    100013|   0.0|\n",
      "|    100028|   0.0|\n",
      "|    100038|   1.0|\n",
      "+----------+------+\n",
      "only showing top 5 rows\n",
      "\n",
      "Null values after handling: 0\n"
     ]
    },
    {
     "name": "stderr",
     "output_type": "stream",
     "text": [
      "                                                                                "
     ]
    }
   ],
   "source": [
    "try:\n",
    "    ### top20_model = top20_pipeline.fit(train_data) ###\n",
    "    ### raw_predictions = top20_model.transform(test) = top20_pipeline.fit(train_data).transform(test) ###\n",
    "    raw_predictions = top20_model.transform(test)\n",
    "    \n",
    "    final_predictions = spark.createDataFrame(\n",
    "        raw_predictions.select(\"SK_ID_CURR\", \"prediction\").rdd,\n",
    "        schema=StructType([\n",
    "            StructField(\"SK_ID_CURR\", StringType(), False),\n",
    "            StructField(\"TARGET\", DoubleType(), True)\n",
    "        ])\n",
    "    ).withColumnRenamed(\"prediction\", \"TARGET\")\n",
    "    \n",
    "    final_predictions = final_predictions.na.fill(0.0, [\"TARGET\"])\n",
    "    \n",
    "    print(\"Sample predictions:\")\n",
    "    final_predictions.show(5)\n",
    "    print(\"Null values after handling:\", \n",
    "          final_predictions.filter(col(\"TARGET\").isNull()).count())\n",
    "    \n",
    "    # Save predictions\n",
    "    final_predictions.write.mode(\"overwrite\").parquet(\n",
    "        \"hdfs:///user/jihadakbr/credit_risk/prediction/prediction_on_test_set\"\n",
    "    )\n",
    "    \n",
    "except Exception as e:\n",
    "    print(f\"Prediction failed: {str(e)}\")\n",
    "    print(\"Trying fallback approach...\")\n",
    "    \n",
    "    local_data = top20_model.transform(test.limit(1000)) \\\n",
    "              .select(\"SK_ID_CURR\", \"prediction\") \\\n",
    "              .collect()\n",
    "    \n",
    "    fallback_data = [(row['SK_ID_CURR'], float(row['prediction']) \n",
    "                     if row['prediction'] is not None else 0.0) \n",
    "                     for row in local_data]\n",
    "    \n",
    "    fallback_df = spark.createDataFrame(\n",
    "        fallback_data,\n",
    "        [\"SK_ID_CURR\", \"TARGET\"]\n",
    "    )\n",
    "    fallback_df.show()"
   ]
  },
  {
   "cell_type": "code",
   "execution_count": 33,
   "id": "4acfb075-1a1e-4e50-b18a-a872269eb646",
   "metadata": {},
   "outputs": [
    {
     "name": "stdout",
     "output_type": "stream",
     "text": [
      "Found 2 items\n",
      "-rw-r--r--   1 jihadakbr supergroup          0 2025-08-30 15:08 /user/jihadakbr/credit_risk/prediction/prediction_on_test_set/_SUCCESS\n",
      "-rw-r--r--   1 jihadakbr supergroup     225986 2025-08-30 15:08 /user/jihadakbr/credit_risk/prediction/prediction_on_test_set/part-00000-8c7f1f08-c689-4b2b-9bf9-e54885399f37-c000.snappy.parquet\n"
     ]
    }
   ],
   "source": [
    "# Check the result in HDFS\n",
    "!hdfs dfs -ls /user/jihadakbr/credit_risk/prediction/prediction_on_test_set"
   ]
  },
  {
   "cell_type": "markdown",
   "id": "c3f5ebbd-9cdf-44a6-b877-1b73bef66dee",
   "metadata": {},
   "source": [
    "# Read the Saved File from HDFS"
   ]
  },
  {
   "cell_type": "code",
   "execution_count": 34,
   "id": "8cbba20a-0e1c-4323-993c-5e2c8c1f36c6",
   "metadata": {},
   "outputs": [
    {
     "name": "stdout",
     "output_type": "stream",
     "text": [
      "+----------+------+\n",
      "|SK_ID_CURR|TARGET|\n",
      "+----------+------+\n",
      "|    100001|   0.0|\n",
      "|    100005|   1.0|\n",
      "|    100013|   0.0|\n",
      "|    100028|   0.0|\n",
      "|    100038|   1.0|\n",
      "|    100042|   0.0|\n",
      "|    100057|   0.0|\n",
      "|    100065|   0.0|\n",
      "|    100066|   0.0|\n",
      "|    100067|   1.0|\n",
      "|    100074|   0.0|\n",
      "|    100090|   0.0|\n",
      "|    100091|   1.0|\n",
      "|    100092|   1.0|\n",
      "|    100106|   0.0|\n",
      "|    100107|   1.0|\n",
      "|    100109|   0.0|\n",
      "|    100117|   0.0|\n",
      "|    100128|   1.0|\n",
      "|    100141|   0.0|\n",
      "+----------+------+\n",
      "only showing top 20 rows\n",
      "\n"
     ]
    }
   ],
   "source": [
    "# Read the Parquet file into a DataFrame\n",
    "xf = spark.read.parquet(\"hdfs:///user/jihadakbr/credit_risk/prediction/prediction_on_test_set\")\n",
    "\n",
    "# Show the first few rows\n",
    "xf.show()"
   ]
  },
  {
   "cell_type": "markdown",
   "id": "3ac9bb02-ec65-4817-872a-bd214e607af1",
   "metadata": {},
   "source": [
    "# Save the Model"
   ]
  },
  {
   "cell_type": "markdown",
   "id": "478c6763-8adb-43b3-af05-efc23859f721",
   "metadata": {},
   "source": [
    "**Save the Best Model**"
   ]
  },
  {
   "cell_type": "code",
   "execution_count": 35,
   "id": "9b9d3421-abd8-4075-a23c-803d0430a090",
   "metadata": {
    "scrolled": true
   },
   "outputs": [],
   "source": [
    "model_save_path = \"hdfs:///user/jihadakbr/credit_risk/ml_model/saved_model\"\n",
    "# top20_model.save(model_save_path)\n",
    "top20_model.write().overwrite().save(model_save_path)"
   ]
  },
  {
   "cell_type": "code",
   "execution_count": 36,
   "id": "9975ce21-51b9-42a6-9bc1-30d7be4fb01a",
   "metadata": {},
   "outputs": [
    {
     "name": "stderr",
     "output_type": "stream",
     "text": [
      "\u001b[31m2025/08/30 15:09:28 WARNING mlflow.models.model: Model logged without a signature and input example. Please set `input_example` parameter when logging the model to auto infer the model signature.\u001b[0m\n"
     ]
    },
    {
     "name": "stdout",
     "output_type": "stream",
     "text": [
      "Model saved to MLflow with Run ID: 37d2cbaaf3c94eceb7e1a1bc2f09d9ea\n"
     ]
    }
   ],
   "source": [
    "with mlflow.start_run(run_name=\"Production_Model\") as run:\n",
    "    # Save model to MLflow\n",
    "    mlflow.spark.log_model(top20_model, \"production_model\")\n",
    "    \n",
    "    # Log parameters and features\n",
    "    mlflow.log_params({\n",
    "        \"model_type\": \"Production\",\n",
    "        \"top_features\": str(top_20_features),  # Convert list to string for logging\n",
    "        \"best_model\": best_model_name\n",
    "    })\n",
    "    \n",
    "    # Log schema\n",
    "    input_schema = train_data.select(top_20_features).schema\n",
    "    with tempfile.NamedTemporaryFile(suffix=\".json\") as tmp:\n",
    "        tmp.write(input_schema.json().encode())\n",
    "        tmp.flush()\n",
    "        mlflow.log_artifact(tmp.name, \"schema\")\n",
    "        \n",
    "    print(f\"Model saved to MLflow with Run ID: {run.info.run_id}\")"
   ]
  },
  {
   "cell_type": "markdown",
   "id": "3f029893-8fb0-4724-9939-2a549ed57ac1",
   "metadata": {},
   "source": [
    "**Save the Feature Columns List**"
   ]
  },
  {
   "cell_type": "code",
   "execution_count": 37,
   "id": "5562f575-399a-4ddf-9bab-9109ba12b920",
   "metadata": {},
   "outputs": [],
   "source": [
    "# Create deployment directory\n",
    "!mkdir -p /home/jihadakbr/Project/Home_Credit_Default_Risk/model_deployment"
   ]
  },
  {
   "cell_type": "code",
   "execution_count": 38,
   "id": "e4f1c0a6-f123-4f6a-b9c0-2574eb998f19",
   "metadata": {},
   "outputs": [],
   "source": [
    "with open('/home/jihadakbr/Project/Home_Credit_Default_Risk/model_deployment/feature_columns.json', 'w') as f:\n",
    "    json.dump(top_20_features, f)"
   ]
  },
  {
   "cell_type": "markdown",
   "id": "0531cbdf-4549-41f9-bcb7-f1bcb4526700",
   "metadata": {},
   "source": [
    "**Save the Preprocessing Pipeline**"
   ]
  },
  {
   "cell_type": "code",
   "execution_count": 39,
   "id": "3b09f466-768f-4546-afb2-9985bac01fae",
   "metadata": {},
   "outputs": [
    {
     "name": "stderr",
     "output_type": "stream",
     "text": [
      "                                                                                "
     ]
    }
   ],
   "source": [
    "pipeline_model = PipelineModel(stages=[top_20_assembler, top20_model.stages[-1]])\n",
    "pipeline_save_path = \"hdfs:///user/jihadakbr/credit_risk/ml_model/pipeline_model\"\n",
    "pipeline_model.write().overwrite().save(pipeline_save_path)"
   ]
  },
  {
   "cell_type": "markdown",
   "id": "ad44e0eb-496d-4d3b-b8ed-6347cdf06980",
   "metadata": {},
   "source": [
    "**Save Schema Information**"
   ]
  },
  {
   "cell_type": "code",
   "execution_count": 40,
   "id": "153873e6-8c3d-48d4-9858-7f8d8d130d41",
   "metadata": {},
   "outputs": [],
   "source": [
    "input_schema = train_data.select(top_20_features).schema\n",
    "with open('/home/jihadakbr/Project/Home_Credit_Default_Risk/model_deployment/input_schema.json', 'w') as f:\n",
    "    f.write(input_schema.json())"
   ]
  },
  {
   "cell_type": "markdown",
   "id": "2f38f2cf-c20d-4218-9335-4f4a90fd2c16",
   "metadata": {},
   "source": [
    "**Package for Deployment**"
   ]
  },
  {
   "cell_type": "code",
   "execution_count": 41,
   "id": "ce7b25e0-acd2-474a-b499-bc9ccfaef6a5",
   "metadata": {},
   "outputs": [
    {
     "name": "stdout",
     "output_type": "stream",
     "text": [
      "get: `/home/jihadakbr/Project/Home_Credit_Default_Risk/model_deployment/saved_model/metadata/_SUCCESS': File exists\n",
      "get: `/home/jihadakbr/Project/Home_Credit_Default_Risk/model_deployment/saved_model/metadata/part-00000': File exists\n"
     ]
    }
   ],
   "source": [
    "# Download model from HDFS to local\n",
    "!hdfs dfs -get /user/jihadakbr/credit_risk/ml_model/saved_model /home/jihadakbr/Project/Home_Credit_Default_Risk/model_deployment/"
   ]
  },
  {
   "cell_type": "code",
   "execution_count": 42,
   "id": "fc15145a-00d2-4bb9-850a-a005099bdca5",
   "metadata": {},
   "outputs": [],
   "source": [
    "# Create requirements file\n",
    "!pip freeze > /home/jihadakbr/Project/Home_Credit_Default_Risk/model_deployment/requirements.txt"
   ]
  },
  {
   "cell_type": "code",
   "execution_count": 43,
   "id": "82628d0f-4bf7-485e-b3da-a3839a72d1fb",
   "metadata": {
    "scrolled": true
   },
   "outputs": [
    {
     "name": "stdout",
     "output_type": "stream",
     "text": [
      "updating: home/jihadakbr/Project/Home_Credit_Default_Risk/model_deployment/ (stored 0%)\n",
      "updating: home/jihadakbr/Project/Home_Credit_Default_Risk/model_deployment/feature_columns.json (deflated 43%)\n",
      "updating: home/jihadakbr/Project/Home_Credit_Default_Risk/model_deployment/requirements.txt (deflated 54%)\n",
      "updating: home/jihadakbr/Project/Home_Credit_Default_Risk/model_deployment/saved_model/ (stored 0%)\n",
      "updating: home/jihadakbr/Project/Home_Credit_Default_Risk/model_deployment/saved_model/metadata/ (stored 0%)\n",
      "updating: home/jihadakbr/Project/Home_Credit_Default_Risk/model_deployment/saved_model/metadata/part-00000 (deflated 23%)\n",
      "updating: home/jihadakbr/Project/Home_Credit_Default_Risk/model_deployment/saved_model/metadata/_SUCCESS (stored 0%)\n",
      "updating: home/jihadakbr/Project/Home_Credit_Default_Risk/model_deployment/saved_model/stages/ (stored 0%)\n",
      "updating: home/jihadakbr/Project/Home_Credit_Default_Risk/model_deployment/saved_model/stages/1_GBTClassifier_19e4fcb2c381/ (stored 0%)\n",
      "updating: home/jihadakbr/Project/Home_Credit_Default_Risk/model_deployment/saved_model/stages/1_GBTClassifier_19e4fcb2c381/metadata/ (stored 0%)\n",
      "updating: home/jihadakbr/Project/Home_Credit_Default_Risk/model_deployment/saved_model/stages/1_GBTClassifier_19e4fcb2c381/metadata/part-00000 (deflated 47%)\n",
      "updating: home/jihadakbr/Project/Home_Credit_Default_Risk/model_deployment/saved_model/stages/1_GBTClassifier_19e4fcb2c381/metadata/_SUCCESS (stored 0%)\n",
      "updating: home/jihadakbr/Project/Home_Credit_Default_Risk/model_deployment/saved_model/stages/1_GBTClassifier_19e4fcb2c381/data/ (stored 0%)\n",
      "updating: home/jihadakbr/Project/Home_Credit_Default_Risk/model_deployment/saved_model/stages/1_GBTClassifier_19e4fcb2c381/data/part-00000-880308cb-ab7d-4855-a910-ba41017de3b2-c000.snappy.parquet (deflated 11%)\n",
      "updating: home/jihadakbr/Project/Home_Credit_Default_Risk/model_deployment/saved_model/stages/1_GBTClassifier_19e4fcb2c381/data/_SUCCESS (stored 0%)\n",
      "updating: home/jihadakbr/Project/Home_Credit_Default_Risk/model_deployment/saved_model/stages/1_GBTClassifier_19e4fcb2c381/treesMetadata/ (stored 0%)\n",
      "updating: home/jihadakbr/Project/Home_Credit_Default_Risk/model_deployment/saved_model/stages/1_GBTClassifier_19e4fcb2c381/treesMetadata/_SUCCESS (stored 0%)\n",
      "updating: home/jihadakbr/Project/Home_Credit_Default_Risk/model_deployment/saved_model/stages/1_GBTClassifier_19e4fcb2c381/treesMetadata/part-00000-e98e5c1a-837c-4018-8c98-b812a221ad5e-c000.snappy.parquet (deflated 34%)\n",
      "updating: home/jihadakbr/Project/Home_Credit_Default_Risk/model_deployment/saved_model/stages/0_VectorAssembler_82cdd297add1/ (stored 0%)\n",
      "updating: home/jihadakbr/Project/Home_Credit_Default_Risk/model_deployment/saved_model/stages/0_VectorAssembler_82cdd297add1/metadata/ (stored 0%)\n",
      "updating: home/jihadakbr/Project/Home_Credit_Default_Risk/model_deployment/saved_model/stages/0_VectorAssembler_82cdd297add1/metadata/part-00000 (deflated 40%)\n",
      "updating: home/jihadakbr/Project/Home_Credit_Default_Risk/model_deployment/saved_model/stages/0_VectorAssembler_82cdd297add1/metadata/_SUCCESS (stored 0%)\n",
      "updating: home/jihadakbr/Project/Home_Credit_Default_Risk/model_deployment/input_schema.json (deflated 78%)\n",
      "updating: home/jihadakbr/Project/Home_Credit_Default_Risk/model_deployment/saved_model/stages/1_GBTClassifier_9ae5f46cda84/ (stored 0%)\n",
      "updating: home/jihadakbr/Project/Home_Credit_Default_Risk/model_deployment/saved_model/stages/1_GBTClassifier_9ae5f46cda84/data/ (stored 0%)\n",
      "updating: home/jihadakbr/Project/Home_Credit_Default_Risk/model_deployment/saved_model/stages/1_GBTClassifier_9ae5f46cda84/data/part-00000-7cffdab0-f4da-4505-9adf-7c699a22d070-c000.snappy.parquet (deflated 11%)\n",
      "updating: home/jihadakbr/Project/Home_Credit_Default_Risk/model_deployment/saved_model/stages/1_GBTClassifier_9ae5f46cda84/data/_SUCCESS (stored 0%)\n",
      "updating: home/jihadakbr/Project/Home_Credit_Default_Risk/model_deployment/saved_model/stages/1_GBTClassifier_9ae5f46cda84/treesMetadata/ (stored 0%)\n",
      "updating: home/jihadakbr/Project/Home_Credit_Default_Risk/model_deployment/saved_model/stages/1_GBTClassifier_9ae5f46cda84/treesMetadata/_SUCCESS (stored 0%)\n",
      "updating: home/jihadakbr/Project/Home_Credit_Default_Risk/model_deployment/saved_model/stages/1_GBTClassifier_9ae5f46cda84/treesMetadata/part-00000-e6d027ca-303a-4ecf-96f0-f30cd3fce655-c000.snappy.parquet (deflated 35%)\n",
      "updating: home/jihadakbr/Project/Home_Credit_Default_Risk/model_deployment/saved_model/stages/1_GBTClassifier_9ae5f46cda84/metadata/ (stored 0%)\n",
      "updating: home/jihadakbr/Project/Home_Credit_Default_Risk/model_deployment/saved_model/stages/1_GBTClassifier_9ae5f46cda84/metadata/part-00000 (deflated 46%)\n",
      "updating: home/jihadakbr/Project/Home_Credit_Default_Risk/model_deployment/saved_model/stages/1_GBTClassifier_9ae5f46cda84/metadata/_SUCCESS (stored 0%)\n",
      "updating: home/jihadakbr/Project/Home_Credit_Default_Risk/model_deployment/saved_model/stages/1_GBTClassifier_5e225e4c86e3/ (stored 0%)\n",
      "updating: home/jihadakbr/Project/Home_Credit_Default_Risk/model_deployment/saved_model/stages/1_GBTClassifier_5e225e4c86e3/data/ (stored 0%)\n",
      "updating: home/jihadakbr/Project/Home_Credit_Default_Risk/model_deployment/saved_model/stages/1_GBTClassifier_5e225e4c86e3/data/_SUCCESS (stored 0%)\n",
      "updating: home/jihadakbr/Project/Home_Credit_Default_Risk/model_deployment/saved_model/stages/1_GBTClassifier_5e225e4c86e3/data/part-00000-d651f546-0433-4ee8-b52e-9555f46d0e5f-c000.snappy.parquet (deflated 11%)\n",
      "updating: home/jihadakbr/Project/Home_Credit_Default_Risk/model_deployment/saved_model/stages/1_GBTClassifier_5e225e4c86e3/treesMetadata/ (stored 0%)\n",
      "updating: home/jihadakbr/Project/Home_Credit_Default_Risk/model_deployment/saved_model/stages/1_GBTClassifier_5e225e4c86e3/treesMetadata/_SUCCESS (stored 0%)\n",
      "updating: home/jihadakbr/Project/Home_Credit_Default_Risk/model_deployment/saved_model/stages/1_GBTClassifier_5e225e4c86e3/treesMetadata/part-00000-bc6bf3a0-7cef-4c18-935e-202c7fed4c68-c000.snappy.parquet (deflated 35%)\n",
      "updating: home/jihadakbr/Project/Home_Credit_Default_Risk/model_deployment/saved_model/stages/1_GBTClassifier_5e225e4c86e3/metadata/ (stored 0%)\n",
      "updating: home/jihadakbr/Project/Home_Credit_Default_Risk/model_deployment/saved_model/stages/1_GBTClassifier_5e225e4c86e3/metadata/part-00000 (deflated 47%)\n",
      "updating: home/jihadakbr/Project/Home_Credit_Default_Risk/model_deployment/saved_model/stages/1_GBTClassifier_5e225e4c86e3/metadata/_SUCCESS (stored 0%)\n",
      "updating: home/jihadakbr/Project/Home_Credit_Default_Risk/model_deployment/saved_model/stages/0_VectorAssembler_10044b894fb3/ (stored 0%)\n",
      "updating: home/jihadakbr/Project/Home_Credit_Default_Risk/model_deployment/saved_model/stages/0_VectorAssembler_10044b894fb3/metadata/ (stored 0%)\n",
      "updating: home/jihadakbr/Project/Home_Credit_Default_Risk/model_deployment/saved_model/stages/0_VectorAssembler_10044b894fb3/metadata/part-00000 (deflated 39%)\n",
      "updating: home/jihadakbr/Project/Home_Credit_Default_Risk/model_deployment/saved_model/stages/0_VectorAssembler_10044b894fb3/metadata/_SUCCESS (stored 0%)\n",
      "updating: home/jihadakbr/Project/Home_Credit_Default_Risk/model_deployment/saved_model/stages/0_VectorAssembler_4e5d640b111c/ (stored 0%)\n",
      "updating: home/jihadakbr/Project/Home_Credit_Default_Risk/model_deployment/saved_model/stages/0_VectorAssembler_4e5d640b111c/metadata/ (stored 0%)\n",
      "updating: home/jihadakbr/Project/Home_Credit_Default_Risk/model_deployment/saved_model/stages/0_VectorAssembler_4e5d640b111c/metadata/part-00000 (deflated 39%)\n",
      "updating: home/jihadakbr/Project/Home_Credit_Default_Risk/model_deployment/saved_model/stages/0_VectorAssembler_4e5d640b111c/metadata/_SUCCESS (stored 0%)\n",
      "  adding: home/jihadakbr/Project/Home_Credit_Default_Risk/model_deployment/saved_model/stages/0_VectorAssembler_ccd1a605f213/ (stored 0%)\n",
      "  adding: home/jihadakbr/Project/Home_Credit_Default_Risk/model_deployment/saved_model/stages/0_VectorAssembler_ccd1a605f213/metadata/ (stored 0%)\n",
      "  adding: home/jihadakbr/Project/Home_Credit_Default_Risk/model_deployment/saved_model/stages/0_VectorAssembler_ccd1a605f213/metadata/part-00000 (deflated 39%)\n",
      "  adding: home/jihadakbr/Project/Home_Credit_Default_Risk/model_deployment/saved_model/stages/0_VectorAssembler_ccd1a605f213/metadata/_SUCCESS (stored 0%)\n",
      "  adding: home/jihadakbr/Project/Home_Credit_Default_Risk/model_deployment/saved_model/stages/1_GBTClassifier_0cf2295700cc/ (stored 0%)\n",
      "  adding: home/jihadakbr/Project/Home_Credit_Default_Risk/model_deployment/saved_model/stages/1_GBTClassifier_0cf2295700cc/data/ (stored 0%)\n",
      "  adding: home/jihadakbr/Project/Home_Credit_Default_Risk/model_deployment/saved_model/stages/1_GBTClassifier_0cf2295700cc/data/part-00000-46d26384-8abe-47f2-bd90-89e43da92535-c000.snappy.parquet (deflated 11%)\n",
      "  adding: home/jihadakbr/Project/Home_Credit_Default_Risk/model_deployment/saved_model/stages/1_GBTClassifier_0cf2295700cc/data/_SUCCESS (stored 0%)\n",
      "  adding: home/jihadakbr/Project/Home_Credit_Default_Risk/model_deployment/saved_model/stages/1_GBTClassifier_0cf2295700cc/treesMetadata/ (stored 0%)\n",
      "  adding: home/jihadakbr/Project/Home_Credit_Default_Risk/model_deployment/saved_model/stages/1_GBTClassifier_0cf2295700cc/treesMetadata/_SUCCESS (stored 0%)\n",
      "  adding: home/jihadakbr/Project/Home_Credit_Default_Risk/model_deployment/saved_model/stages/1_GBTClassifier_0cf2295700cc/treesMetadata/part-00000-c49e2e1e-3ecf-4cee-a335-488a63646d20-c000.snappy.parquet (deflated 35%)\n",
      "  adding: home/jihadakbr/Project/Home_Credit_Default_Risk/model_deployment/saved_model/stages/1_GBTClassifier_0cf2295700cc/metadata/ (stored 0%)\n",
      "  adding: home/jihadakbr/Project/Home_Credit_Default_Risk/model_deployment/saved_model/stages/1_GBTClassifier_0cf2295700cc/metadata/part-00000 (deflated 46%)\n",
      "  adding: home/jihadakbr/Project/Home_Credit_Default_Risk/model_deployment/saved_model/stages/1_GBTClassifier_0cf2295700cc/metadata/_SUCCESS (stored 0%)\n"
     ]
    }
   ],
   "source": [
    "# First path: output file; Second path: source folder\n",
    "!zip -r /home/jihadakbr/Project/Home_Credit_Default_Risk/archive/model_deployment.zip  /home/jihadakbr/Project/Home_Credit_Default_Risk/model_deployment/"
   ]
  },
  {
   "cell_type": "markdown",
   "id": "8d9146f9-9b7a-42ac-a687-bb1be7da98f5",
   "metadata": {},
   "source": [
    "# Load the Model and Make a Prediction"
   ]
  },
  {
   "cell_type": "markdown",
   "id": "e0e91cb2-22f3-456d-b075-be7b9b734ffc",
   "metadata": {},
   "source": [
    "**Load Features**"
   ]
  },
  {
   "cell_type": "code",
   "execution_count": 44,
   "id": "a7d672cb-b482-4ec0-ab32-234e2bd8e730",
   "metadata": {},
   "outputs": [],
   "source": [
    "# Initialize MLflow client\n",
    "client = MlflowClient()"
   ]
  },
  {
   "cell_type": "code",
   "execution_count": 45,
   "id": "c6a01f35-d410-43a9-848b-72da2ec9ba5a",
   "metadata": {},
   "outputs": [],
   "source": [
    "# Get experiment ID (automated approach)\n",
    "experiment = client.get_experiment_by_name(\"CreditRiskModeling\")  # My Experiment name\n",
    "if not experiment:\n",
    "    raise ValueError(\"Experiment not found!\")"
   ]
  },
  {
   "cell_type": "code",
   "execution_count": 46,
   "id": "f9012de4-35fd-45aa-ae40-09b91dc284ce",
   "metadata": {},
   "outputs": [],
   "source": [
    "# Search for production run\n",
    "prod_runs = client.search_runs(\n",
    "    experiment_ids=[experiment.experiment_id],\n",
    "    filter_string=\"tags.mlflow.runName = 'Production_Model'\",\n",
    "    order_by=[\"attribute.start_time DESC\"],\n",
    "    max_results=1\n",
    ")\n",
    "\n",
    "if not prod_runs:\n",
    "    raise ValueError(\"No production model found in MLflow!\")"
   ]
  },
  {
   "cell_type": "code",
   "execution_count": 47,
   "id": "2ec3c734-de4d-47bc-b91b-a9328fa80ae8",
   "metadata": {},
   "outputs": [],
   "source": [
    "prod_run = prod_runs[0]\n",
    "RUN_ID = prod_run.info.run_id"
   ]
  },
  {
   "cell_type": "code",
   "execution_count": 48,
   "id": "b7417e86-c4a6-4659-8167-6ecc3c3164cd",
   "metadata": {},
   "outputs": [
    {
     "data": {
      "text/plain": [
       "'37d2cbaaf3c94eceb7e1a1bc2f09d9ea'"
      ]
     },
     "execution_count": 48,
     "metadata": {},
     "output_type": "execute_result"
    }
   ],
   "source": [
    "RUN_ID"
   ]
  },
  {
   "cell_type": "code",
   "execution_count": 49,
   "id": "7c901728-5e55-43f2-8416-ba802445cfad",
   "metadata": {},
   "outputs": [],
   "source": [
    "# with open('/home/jihadakbr/Project/Home_Credit_Default_Risk/model_deployment/feature_columns.json', 'r') as f:\n",
    "#     top_20_features = json.load(f)"
   ]
  },
  {
   "cell_type": "code",
   "execution_count": 50,
   "id": "7a69e292-22b1-4d70-b236-192f6534b839",
   "metadata": {},
   "outputs": [],
   "source": [
    "top_20_features = eval(prod_run.data.params[\"top_features\"])"
   ]
  },
  {
   "cell_type": "code",
   "execution_count": 51,
   "id": "373e1f3e-308b-4dd4-b7bf-c933037da1fb",
   "metadata": {},
   "outputs": [
    {
     "name": "stdout",
     "output_type": "stream",
     "text": [
      "Top 20 Features Used by Model:\n",
      "['EXT_SOURCE_1', 'GOODS_CREDIT_RATIO', 'EXT_SOURCE_3', 'EXT_SOURCE_2', 'ORGANIZATION_TYPE_ENCODED', 'DAYS_BIRTH', 'DAYS_EMPLOYED', 'NAME_EDUCATION_TYPE', 'CODE_GENDER', 'AMT_ANNUITY', 'AMT_CREDIT', 'FLAG_OWN_CAR', 'DAYS_ID_PUBLISH', 'ATI_RATIO', 'OWN_CAR_AGE', 'LIVINGAREA_MEDI', 'DEF_30_CNT_SOCIAL_CIRCLE', 'FLAG_DOCUMENT_3', 'NAME_FAMILY_STATUS_Married', 'NAME_INCOME_TYPE_Working']\n"
     ]
    }
   ],
   "source": [
    "print(\"Top 20 Features Used by Model:\")\n",
    "print(top_20_features)"
   ]
  },
  {
   "cell_type": "markdown",
   "id": "4059d02a-f06f-4719-aedc-aef117b1d9c8",
   "metadata": {},
   "source": [
    "**Load schema**"
   ]
  },
  {
   "cell_type": "code",
   "execution_count": 52,
   "id": "4b8e4e60-e331-4429-b14a-0cd1bd9c0b06",
   "metadata": {},
   "outputs": [],
   "source": [
    "def load_schema(run_id):\n",
    "    \n",
    "    with tempfile.TemporaryDirectory() as tmp_dir:\n",
    "        try:\n",
    "            # Download the entire schema directory\n",
    "            schema_dir = client.download_artifacts(\n",
    "                run_id=run_id,\n",
    "                path=\"schema\",  # Matches the artifact structure\n",
    "                dst_path=tmp_dir\n",
    "            )\n",
    "            \n",
    "            # Look for schema file (could be any name)\n",
    "            for file in os.listdir(schema_dir):\n",
    "                if file.endswith('.json'):\n",
    "                    with open(os.path.join(schema_dir, file), 'r') as f:\n",
    "                        return json.load(f)\n",
    "                        \n",
    "        except Exception as e:\n",
    "            print(f\"First attempt failed: {str(e)}\")\n",
    "    \n",
    "    # Fallback to direct file access\n",
    "    try:\n",
    "        artifact_uri = client.get_run(run_id).info.artifact_uri\n",
    "        schema_uri = f\"{artifact_uri}/schema/input_schema.json\"\n",
    "        \n",
    "        if schema_uri.startswith(\"file://\"):\n",
    "            with open(schema_uri[7:], 'r') as f:\n",
    "                return json.load(f)\n",
    "        else:\n",
    "            import requests\n",
    "            response = requests.get(schema_uri)\n",
    "            return response.json()\n",
    "            \n",
    "    except Exception as e:\n",
    "        print(f\"Fallback failed: {str(e)}\")\n",
    "        raise ValueError(f\"Could not load schema from run {run_id}\")"
   ]
  },
  {
   "cell_type": "code",
   "execution_count": 53,
   "id": "6545e6b4-9c38-456d-83e2-c409c5ce4963",
   "metadata": {},
   "outputs": [
    {
     "name": "stderr",
     "output_type": "stream",
     "text": [
      "Downloading artifacts: 100%|█████████████████████████████████████████████████| 1/1 [00:00<00:00, 325.17it/s]\n"
     ]
    }
   ],
   "source": [
    "schema_json = load_schema(RUN_ID)"
   ]
  },
  {
   "cell_type": "code",
   "execution_count": 54,
   "id": "80175f1e-e36d-4f70-93a5-1c1af1f7e578",
   "metadata": {},
   "outputs": [],
   "source": [
    "if isinstance(schema_json, str):\n",
    "    schema_dict = json.loads(schema_json)\n",
    "else:\n",
    "    schema_dict = schema_json\n",
    "\n",
    "full_schema = StructType.fromJson(schema_dict)"
   ]
  },
  {
   "cell_type": "code",
   "execution_count": 55,
   "id": "9387c47f-a037-4f0d-a956-faba173de6f9",
   "metadata": {},
   "outputs": [],
   "source": [
    "# Filter for only top 20 features\n",
    "top_20_schema = StructType([\n",
    "    field for field in full_schema.fields \n",
    "    if field.name in top_20_features\n",
    "])"
   ]
  },
  {
   "cell_type": "code",
   "execution_count": 56,
   "id": "67fea2d0-6e05-40ea-8bd4-7c5c36b07641",
   "metadata": {},
   "outputs": [],
   "source": [
    "# Add SK_ID_CURR\n",
    "input_schema = StructType([\n",
    "    StructField(\"SK_ID_CURR\", IntegerType(), False)\n",
    "] + top_20_schema.fields)"
   ]
  },
  {
   "cell_type": "code",
   "execution_count": 57,
   "id": "88e8fe4d-5691-4800-867c-079525968ce1",
   "metadata": {
    "scrolled": true
   },
   "outputs": [
    {
     "name": "stdout",
     "output_type": "stream",
     "text": [
      "Schema for manual data creation:\n",
      "{\n",
      "  \"fields\": [\n",
      "    {\n",
      "      \"metadata\": {},\n",
      "      \"name\": \"SK_ID_CURR\",\n",
      "      \"nullable\": false,\n",
      "      \"type\": \"integer\"\n",
      "    },\n",
      "    {\n",
      "      \"metadata\": {},\n",
      "      \"name\": \"EXT_SOURCE_1\",\n",
      "      \"nullable\": true,\n",
      "      \"type\": \"double\"\n",
      "    },\n",
      "    {\n",
      "      \"metadata\": {},\n",
      "      \"name\": \"GOODS_CREDIT_RATIO\",\n",
      "      \"nullable\": true,\n",
      "      \"type\": \"double\"\n",
      "    },\n",
      "    {\n",
      "      \"metadata\": {},\n",
      "      \"name\": \"EXT_SOURCE_3\",\n",
      "      \"nullable\": true,\n",
      "      \"type\": \"double\"\n",
      "    },\n",
      "    {\n",
      "      \"metadata\": {},\n",
      "      \"name\": \"EXT_SOURCE_2\",\n",
      "      \"nullable\": true,\n",
      "      \"type\": \"double\"\n",
      "    },\n",
      "    {\n",
      "      \"metadata\": {},\n",
      "      \"name\": \"ORGANIZATION_TYPE_ENCODED\",\n",
      "      \"nullable\": true,\n",
      "      \"type\": \"double\"\n",
      "    },\n",
      "    {\n",
      "      \"metadata\": {},\n",
      "      \"name\": \"DAYS_BIRTH\",\n",
      "      \"nullable\": true,\n",
      "      \"type\": \"long\"\n",
      "    },\n",
      "    {\n",
      "      \"metadata\": {},\n",
      "      \"name\": \"DAYS_EMPLOYED\",\n",
      "      \"nullable\": true,\n",
      "      \"type\": \"long\"\n",
      "    },\n",
      "    {\n",
      "      \"metadata\": {},\n",
      "      \"name\": \"NAME_EDUCATION_TYPE\",\n",
      "      \"nullable\": true,\n",
      "      \"type\": \"long\"\n",
      "    },\n",
      "    {\n",
      "      \"metadata\": {},\n",
      "      \"name\": \"CODE_GENDER\",\n",
      "      \"nullable\": true,\n",
      "      \"type\": \"long\"\n",
      "    },\n",
      "    {\n",
      "      \"metadata\": {},\n",
      "      \"name\": \"AMT_ANNUITY\",\n",
      "      \"nullable\": true,\n",
      "      \"type\": \"double\"\n",
      "    },\n",
      "    {\n",
      "      \"metadata\": {},\n",
      "      \"name\": \"AMT_CREDIT\",\n",
      "      \"nullable\": true,\n",
      "      \"type\": \"double\"\n",
      "    },\n",
      "    {\n",
      "      \"metadata\": {},\n",
      "      \"name\": \"FLAG_OWN_CAR\",\n",
      "      \"nullable\": true,\n",
      "      \"type\": \"long\"\n",
      "    },\n",
      "    {\n",
      "      \"metadata\": {},\n",
      "      \"name\": \"DAYS_ID_PUBLISH\",\n",
      "      \"nullable\": true,\n",
      "      \"type\": \"long\"\n",
      "    },\n",
      "    {\n",
      "      \"metadata\": {},\n",
      "      \"name\": \"ATI_RATIO\",\n",
      "      \"nullable\": true,\n",
      "      \"type\": \"double\"\n",
      "    },\n",
      "    {\n",
      "      \"metadata\": {},\n",
      "      \"name\": \"OWN_CAR_AGE\",\n",
      "      \"nullable\": true,\n",
      "      \"type\": \"double\"\n",
      "    },\n",
      "    {\n",
      "      \"metadata\": {},\n",
      "      \"name\": \"LIVINGAREA_MEDI\",\n",
      "      \"nullable\": true,\n",
      "      \"type\": \"double\"\n",
      "    },\n",
      "    {\n",
      "      \"metadata\": {},\n",
      "      \"name\": \"DEF_30_CNT_SOCIAL_CIRCLE\",\n",
      "      \"nullable\": true,\n",
      "      \"type\": \"double\"\n",
      "    },\n",
      "    {\n",
      "      \"metadata\": {},\n",
      "      \"name\": \"FLAG_DOCUMENT_3\",\n",
      "      \"nullable\": true,\n",
      "      \"type\": \"long\"\n",
      "    },\n",
      "    {\n",
      "      \"metadata\": {},\n",
      "      \"name\": \"NAME_FAMILY_STATUS_Married\",\n",
      "      \"nullable\": true,\n",
      "      \"type\": \"long\"\n",
      "    },\n",
      "    {\n",
      "      \"metadata\": {},\n",
      "      \"name\": \"NAME_INCOME_TYPE_Working\",\n",
      "      \"nullable\": true,\n",
      "      \"type\": \"long\"\n",
      "    }\n",
      "  ],\n",
      "  \"type\": \"struct\"\n",
      "}\n"
     ]
    }
   ],
   "source": [
    "print(\"Schema for manual data creation:\")\n",
    "print(json.dumps(json.loads(input_schema.json()), indent=2))"
   ]
  },
  {
   "cell_type": "markdown",
   "id": "a01ca977-5740-4d1c-91bb-196e38836dac",
   "metadata": {},
   "source": [
    "**Load new data**"
   ]
  },
  {
   "cell_type": "code",
   "execution_count": 58,
   "id": "f299159b-ddd5-4be2-a5b7-eb73ac413bb8",
   "metadata": {},
   "outputs": [
    {
     "name": "stdout",
     "output_type": "stream",
     "text": [
      "Schema matches: True\n",
      "-RECORD 0------------------------------\n",
      " SK_ID_CURR                 | 100001   \n",
      " EXT_SOURCE_1               | 0.35     \n",
      " GOODS_CREDIT_RATIO         | 1.2      \n",
      " EXT_SOURCE_3               | 0.78     \n",
      " EXT_SOURCE_2               | 0.52     \n",
      " ORGANIZATION_TYPE_ENCODED  | 4.0      \n",
      " DAYS_BIRTH                 | -12000   \n",
      " DAYS_EMPLOYED              | -4500    \n",
      " NAME_EDUCATION_TYPE        | 1        \n",
      " CODE_GENDER                | 1        \n",
      " AMT_ANNUITY                | 25000.0  \n",
      " AMT_CREDIT                 | 300000.0 \n",
      " FLAG_OWN_CAR               | 1        \n",
      " DAYS_ID_PUBLISH            | -1500    \n",
      " ATI_RATIO                  | 0.42     \n",
      " OWN_CAR_AGE                | 5.0      \n",
      " LIVINGAREA_MEDI            | 75.5     \n",
      " DEF_30_CNT_SOCIAL_CIRCLE   | 0.0      \n",
      " FLAG_DOCUMENT_3            | 1        \n",
      " NAME_FAMILY_STATUS_Married | 1        \n",
      " NAME_INCOME_TYPE_Working   | 1        \n",
      "-RECORD 1------------------------------\n",
      " SK_ID_CURR                 | 100002   \n",
      " EXT_SOURCE_1               | 0.15     \n",
      " GOODS_CREDIT_RATIO         | 2.5      \n",
      " EXT_SOURCE_3               | 0.25     \n",
      " EXT_SOURCE_2               | 0.3      \n",
      " ORGANIZATION_TYPE_ENCODED  | 8.0      \n",
      " DAYS_BIRTH                 | -20000   \n",
      " DAYS_EMPLOYED              | -300     \n",
      " NAME_EDUCATION_TYPE        | 0        \n",
      " CODE_GENDER                | 0        \n",
      " AMT_ANNUITY                | 45000.0  \n",
      " AMT_CREDIT                 | 500000.0 \n",
      " FLAG_OWN_CAR               | 0        \n",
      " DAYS_ID_PUBLISH            | -3000    \n",
      " ATI_RATIO                  | 0.15     \n",
      " OWN_CAR_AGE                | 0.0      \n",
      " LIVINGAREA_MEDI            | 45.2     \n",
      " DEF_30_CNT_SOCIAL_CIRCLE   | 2.0      \n",
      " FLAG_DOCUMENT_3            | 0        \n",
      " NAME_FAMILY_STATUS_Married | 0        \n",
      " NAME_INCOME_TYPE_Working   | 1        \n",
      "\n"
     ]
    }
   ],
   "source": [
    "# Create dummy data as plain Python dictionaries\n",
    "dummy_data = [\n",
    "    { # Low-risk applicant\n",
    "        \"SK_ID_CURR\": 100001,\n",
    "        \"EXT_SOURCE_1\": 0.35,\n",
    "        \"GOODS_CREDIT_RATIO\": 1.2,\n",
    "        \"EXT_SOURCE_3\": 0.78,\n",
    "        \"EXT_SOURCE_2\": 0.52,\n",
    "        \"ORGANIZATION_TYPE_ENCODED\": 4.0,\n",
    "        \"DAYS_BIRTH\": -12000,  # ~33 years old\n",
    "        \"DAYS_EMPLOYED\": -4500,  # ~12 years employed\n",
    "        \"NAME_EDUCATION_TYPE\": 1,  # 1=Higher education\n",
    "        \"CODE_GENDER\": 1,  # 1=Male\n",
    "        \"AMT_ANNUITY\": 25000.0,\n",
    "        \"AMT_CREDIT\": 300000.0,\n",
    "        \"FLAG_OWN_CAR\": 1,  # 1=Yes\n",
    "        \"DAYS_ID_PUBLISH\": -1500,\n",
    "        \"ATI_RATIO\": 0.42,\n",
    "        \"OWN_CAR_AGE\": 5.0,\n",
    "        \"LIVINGAREA_MEDI\": 75.5,\n",
    "        \"DEF_30_CNT_SOCIAL_CIRCLE\": 0.0,\n",
    "        \"FLAG_DOCUMENT_3\": 1,\n",
    "        \"NAME_FAMILY_STATUS_Married\": 1,  # 1=Married\n",
    "        \"NAME_INCOME_TYPE_Working\": 1\n",
    "    },\n",
    "    { # High-risk applicant\n",
    "        \"SK_ID_CURR\": 100002,\n",
    "        \"EXT_SOURCE_1\": 0.15,\n",
    "        \"GOODS_CREDIT_RATIO\": 2.5,\n",
    "        \"EXT_SOURCE_3\": 0.25,\n",
    "        \"EXT_SOURCE_2\": 0.30,\n",
    "        \"ORGANIZATION_TYPE_ENCODED\": 8.0,\n",
    "        \"DAYS_BIRTH\": -20000,  # ~55 years old\n",
    "        \"DAYS_EMPLOYED\": -300,  # <1 year employed\n",
    "        \"NAME_EDUCATION_TYPE\": 0,  # 0=Secondary\n",
    "        \"CODE_GENDER\": 0,  # 0=Female\n",
    "        \"AMT_ANNUITY\": 45000.0,\n",
    "        \"AMT_CREDIT\": 500000.0,\n",
    "        \"FLAG_OWN_CAR\": 0,  # 0=No\n",
    "        \"DAYS_ID_PUBLISH\": -3000,\n",
    "        \"ATI_RATIO\": 0.15,\n",
    "        \"OWN_CAR_AGE\": 0.0,\n",
    "        \"LIVINGAREA_MEDI\": 45.2,\n",
    "        \"DEF_30_CNT_SOCIAL_CIRCLE\": 2.0,\n",
    "        \"FLAG_DOCUMENT_3\": 0,\n",
    "        \"NAME_FAMILY_STATUS_Married\": 0,\n",
    "        \"NAME_INCOME_TYPE_Working\": 1\n",
    "    }\n",
    "]\n",
    "\n",
    "# Create DataFrame (using schema enforcement)\n",
    "dummy_df = spark.createDataFrame([Row(**d) for d in dummy_data], schema=input_schema)\n",
    "\n",
    "# Verify\n",
    "print(\"Schema matches:\", dummy_df.schema == input_schema)\n",
    "dummy_df.show(2, vertical=True)"
   ]
  },
  {
   "cell_type": "markdown",
   "id": "383be598-c2df-4052-91c4-1345655e755c",
   "metadata": {},
   "source": [
    "**Load Model and Predict**"
   ]
  },
  {
   "cell_type": "code",
   "execution_count": 59,
   "id": "d933ae58-7ddc-4fbe-ab3a-1db571af0007",
   "metadata": {},
   "outputs": [
    {
     "name": "stderr",
     "output_type": "stream",
     "text": [
      "Downloading artifacts: 100%|███████████████████████████████████████████████| 24/24 [00:00<00:00, 310.24it/s]\n",
      "2025/08/30 15:09:39 INFO mlflow.spark: URI 'runs:/37d2cbaaf3c94eceb7e1a1bc2f09d9ea/production_model/sparkml' does not point to the current DFS.\n",
      "2025/08/30 15:09:39 INFO mlflow.spark: File 'runs:/37d2cbaaf3c94eceb7e1a1bc2f09d9ea/production_model/sparkml' not found on DFS. Will attempt to upload the file.\n",
      "2025/08/30 15:09:41 INFO mlflow.spark: Copied SparkML model to /tmp/mlflow/8dea8acd-39b8-47fb-8b55-5bd04b59f2a4\n"
     ]
    }
   ],
   "source": [
    "model = mlflow.spark.load_model(f\"runs:/{RUN_ID}/production_model\")"
   ]
  },
  {
   "cell_type": "code",
   "execution_count": 60,
   "id": "02033e19-3c35-476f-b5bd-9fcdf1eee780",
   "metadata": {},
   "outputs": [
    {
     "name": "stdout",
     "output_type": "stream",
     "text": [
      "+----------+----------+----------------------------------------+\n",
      "|SK_ID_CURR|prediction|probability                             |\n",
      "+----------+----------+----------------------------------------+\n",
      "|100001    |0.0       |[0.6087917434329385,0.3912082565670615] |\n",
      "|100002    |1.0       |[0.14378580424821183,0.8562141957517881]|\n",
      "+----------+----------+----------------------------------------+\n",
      "\n"
     ]
    }
   ],
   "source": [
    "predictions = model.transform(dummy_df)\n",
    "predictions.select(\"SK_ID_CURR\", \"prediction\", \"probability\").show(truncate=False)"
   ]
  },
  {
   "cell_type": "markdown",
   "id": "176851a9-b5bd-4de7-ba52-e3c95177ab23",
   "metadata": {},
   "source": [
    "**Interpretation Guide**"
   ]
  },
  {
   "cell_type": "markdown",
   "id": "9ed58ad1-3aca-4386-b621-d8e18a2a0d07",
   "metadata": {},
   "source": [
    "Probability [P(0), P(1)] where:\n",
    "- P(0): Probability of no default (class 0)\n",
    "- P(1): Probability of default (class 1)"
   ]
  },
  {
   "cell_type": "markdown",
   "id": "e0d7c665-d744-42ae-8bd4-258c665e68e5",
   "metadata": {},
   "source": [
    "prediction=1 with [0.1, 0.9] → Strong confidence in default  \n",
    "prediction=0 with [0.9, 0.1] → Strong confidence in no default  \n",
    "prediction=0 with [0.1, 0.9] → Model conflict (predicts no default but probabilities suggest high risk)"
   ]
  },
  {
   "cell_type": "markdown",
   "id": "78c68b4e-93e6-41b2-8043-326d5e903403",
   "metadata": {},
   "source": [
    "**Save Predictions**"
   ]
  },
  {
   "cell_type": "code",
   "execution_count": 61,
   "id": "538315f0-69ae-43ac-910e-e789c95312a8",
   "metadata": {},
   "outputs": [
    {
     "name": "stderr",
     "output_type": "stream",
     "text": [
      "                                                                                "
     ]
    }
   ],
   "source": [
    "output_path = \"hdfs:///user/jihadakbr/credit_risk/prediction/testing_load_and_predict_new_data\"\n",
    "predictions.select(\"SK_ID_CURR\", \"prediction\").write.mode(\"overwrite\").parquet(output_path)"
   ]
  },
  {
   "cell_type": "markdown",
   "id": "5eed3d06-0e85-49f9-b42f-ba7c01ab6e81",
   "metadata": {},
   "source": [
    "# Stop Spark Session"
   ]
  },
  {
   "cell_type": "code",
   "execution_count": 62,
   "id": "c6c3bdbf-12ca-41f5-9ee5-741c5a76512d",
   "metadata": {},
   "outputs": [],
   "source": [
    "spark.stop()"
   ]
  }
 ],
 "metadata": {
  "kernelspec": {
   "display_name": "Python 3 (ipykernel)",
   "language": "python",
   "name": "python3"
  },
  "language_info": {
   "codemirror_mode": {
    "name": "ipython",
    "version": 3
   },
   "file_extension": ".py",
   "mimetype": "text/x-python",
   "name": "python",
   "nbconvert_exporter": "python",
   "pygments_lexer": "ipython3",
   "version": "3.10.18"
  }
 },
 "nbformat": 4,
 "nbformat_minor": 5
}
